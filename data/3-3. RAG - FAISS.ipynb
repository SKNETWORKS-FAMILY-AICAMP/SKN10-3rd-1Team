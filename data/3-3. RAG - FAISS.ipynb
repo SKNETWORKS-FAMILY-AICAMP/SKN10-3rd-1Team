{
 "cells": [
  {
   "cell_type": "code",
   "execution_count": 1,
   "metadata": {
    "colab": {
     "base_uri": "https://localhost:8080/"
    },
    "executionInfo": {
     "elapsed": 28485,
     "status": "ok",
     "timestamp": 1741138595955,
     "user": {
      "displayName": "조경원",
      "userId": "10205523497785796707"
     },
     "user_tz": -540
    },
    "id": "4g8NmlPSAI5F",
    "outputId": "96a74900-5c60-4503-a0b0-2c74890a4fe1"
   },
   "outputs": [
    {
     "name": "stdout",
     "output_type": "stream",
     "text": [
      "Requirement already satisfied: langchain in /usr/local/lib/python3.11/dist-packages (0.3.19)\n",
      "Collecting langchain_openai\n",
      "  Downloading langchain_openai-0.3.7-py3-none-any.whl.metadata (2.3 kB)\n",
      "Collecting langchain_community\n",
      "  Downloading langchain_community-0.3.19-py3-none-any.whl.metadata (2.4 kB)\n",
      "Collecting faiss-cpu\n",
      "  Downloading faiss_cpu-1.10.0-cp311-cp311-manylinux_2_28_x86_64.whl.metadata (4.4 kB)\n",
      "Requirement already satisfied: langchain-core<1.0.0,>=0.3.35 in /usr/local/lib/python3.11/dist-packages (from langchain) (0.3.40)\n",
      "Requirement already satisfied: langchain-text-splitters<1.0.0,>=0.3.6 in /usr/local/lib/python3.11/dist-packages (from langchain) (0.3.6)\n",
      "Requirement already satisfied: langsmith<0.4,>=0.1.17 in /usr/local/lib/python3.11/dist-packages (from langchain) (0.3.11)\n",
      "Requirement already satisfied: pydantic<3.0.0,>=2.7.4 in /usr/local/lib/python3.11/dist-packages (from langchain) (2.10.6)\n",
      "Requirement already satisfied: SQLAlchemy<3,>=1.4 in /usr/local/lib/python3.11/dist-packages (from langchain) (2.0.38)\n",
      "Requirement already satisfied: requests<3,>=2 in /usr/local/lib/python3.11/dist-packages (from langchain) (2.32.3)\n",
      "Requirement already satisfied: PyYAML>=5.3 in /usr/local/lib/python3.11/dist-packages (from langchain) (6.0.2)\n",
      "Requirement already satisfied: aiohttp<4.0.0,>=3.8.3 in /usr/local/lib/python3.11/dist-packages (from langchain) (3.11.13)\n",
      "Requirement already satisfied: tenacity!=8.4.0,<10,>=8.1.0 in /usr/local/lib/python3.11/dist-packages (from langchain) (9.0.0)\n",
      "Requirement already satisfied: numpy<2,>=1.26.4 in /usr/local/lib/python3.11/dist-packages (from langchain) (1.26.4)\n",
      "Requirement already satisfied: openai<2.0.0,>=1.58.1 in /usr/local/lib/python3.11/dist-packages (from langchain_openai) (1.61.1)\n",
      "Collecting tiktoken<1,>=0.7 (from langchain_openai)\n",
      "  Downloading tiktoken-0.9.0-cp311-cp311-manylinux_2_17_x86_64.manylinux2014_x86_64.whl.metadata (6.7 kB)\n",
      "Collecting langchain-core<1.0.0,>=0.3.35 (from langchain)\n",
      "  Downloading langchain_core-0.3.41-py3-none-any.whl.metadata (5.9 kB)\n",
      "Collecting langchain\n",
      "  Downloading langchain-0.3.20-py3-none-any.whl.metadata (7.7 kB)\n",
      "Collecting dataclasses-json<0.7,>=0.5.7 (from langchain_community)\n",
      "  Downloading dataclasses_json-0.6.7-py3-none-any.whl.metadata (25 kB)\n",
      "Collecting pydantic-settings<3.0.0,>=2.4.0 (from langchain_community)\n",
      "  Downloading pydantic_settings-2.8.1-py3-none-any.whl.metadata (3.5 kB)\n",
      "Collecting httpx-sse<1.0.0,>=0.4.0 (from langchain_community)\n",
      "  Downloading httpx_sse-0.4.0-py3-none-any.whl.metadata (9.0 kB)\n",
      "Requirement already satisfied: packaging in /usr/local/lib/python3.11/dist-packages (from faiss-cpu) (24.2)\n",
      "Requirement already satisfied: aiohappyeyeballs>=2.3.0 in /usr/local/lib/python3.11/dist-packages (from aiohttp<4.0.0,>=3.8.3->langchain) (2.4.6)\n",
      "Requirement already satisfied: aiosignal>=1.1.2 in /usr/local/lib/python3.11/dist-packages (from aiohttp<4.0.0,>=3.8.3->langchain) (1.3.2)\n",
      "Requirement already satisfied: attrs>=17.3.0 in /usr/local/lib/python3.11/dist-packages (from aiohttp<4.0.0,>=3.8.3->langchain) (25.1.0)\n",
      "Requirement already satisfied: frozenlist>=1.1.1 in /usr/local/lib/python3.11/dist-packages (from aiohttp<4.0.0,>=3.8.3->langchain) (1.5.0)\n",
      "Requirement already satisfied: multidict<7.0,>=4.5 in /usr/local/lib/python3.11/dist-packages (from aiohttp<4.0.0,>=3.8.3->langchain) (6.1.0)\n",
      "Requirement already satisfied: propcache>=0.2.0 in /usr/local/lib/python3.11/dist-packages (from aiohttp<4.0.0,>=3.8.3->langchain) (0.3.0)\n",
      "Requirement already satisfied: yarl<2.0,>=1.17.0 in /usr/local/lib/python3.11/dist-packages (from aiohttp<4.0.0,>=3.8.3->langchain) (1.18.3)\n",
      "Collecting marshmallow<4.0.0,>=3.18.0 (from dataclasses-json<0.7,>=0.5.7->langchain_community)\n",
      "  Downloading marshmallow-3.26.1-py3-none-any.whl.metadata (7.3 kB)\n",
      "Collecting typing-inspect<1,>=0.4.0 (from dataclasses-json<0.7,>=0.5.7->langchain_community)\n",
      "  Downloading typing_inspect-0.9.0-py3-none-any.whl.metadata (1.5 kB)\n",
      "Requirement already satisfied: jsonpatch<2.0,>=1.33 in /usr/local/lib/python3.11/dist-packages (from langchain-core<1.0.0,>=0.3.35->langchain) (1.33)\n",
      "Requirement already satisfied: typing-extensions>=4.7 in /usr/local/lib/python3.11/dist-packages (from langchain-core<1.0.0,>=0.3.35->langchain) (4.12.2)\n",
      "Requirement already satisfied: httpx<1,>=0.23.0 in /usr/local/lib/python3.11/dist-packages (from langsmith<0.4,>=0.1.17->langchain) (0.28.1)\n",
      "Requirement already satisfied: orjson<4.0.0,>=3.9.14 in /usr/local/lib/python3.11/dist-packages (from langsmith<0.4,>=0.1.17->langchain) (3.10.15)\n",
      "Requirement already satisfied: requests-toolbelt<2.0.0,>=1.0.0 in /usr/local/lib/python3.11/dist-packages (from langsmith<0.4,>=0.1.17->langchain) (1.0.0)\n",
      "Requirement already satisfied: zstandard<0.24.0,>=0.23.0 in /usr/local/lib/python3.11/dist-packages (from langsmith<0.4,>=0.1.17->langchain) (0.23.0)\n",
      "Requirement already satisfied: anyio<5,>=3.5.0 in /usr/local/lib/python3.11/dist-packages (from openai<2.0.0,>=1.58.1->langchain_openai) (3.7.1)\n",
      "Requirement already satisfied: distro<2,>=1.7.0 in /usr/local/lib/python3.11/dist-packages (from openai<2.0.0,>=1.58.1->langchain_openai) (1.9.0)\n",
      "Requirement already satisfied: jiter<1,>=0.4.0 in /usr/local/lib/python3.11/dist-packages (from openai<2.0.0,>=1.58.1->langchain_openai) (0.8.2)\n",
      "Requirement already satisfied: sniffio in /usr/local/lib/python3.11/dist-packages (from openai<2.0.0,>=1.58.1->langchain_openai) (1.3.1)\n",
      "Requirement already satisfied: tqdm>4 in /usr/local/lib/python3.11/dist-packages (from openai<2.0.0,>=1.58.1->langchain_openai) (4.67.1)\n",
      "Requirement already satisfied: annotated-types>=0.6.0 in /usr/local/lib/python3.11/dist-packages (from pydantic<3.0.0,>=2.7.4->langchain) (0.7.0)\n",
      "Requirement already satisfied: pydantic-core==2.27.2 in /usr/local/lib/python3.11/dist-packages (from pydantic<3.0.0,>=2.7.4->langchain) (2.27.2)\n",
      "Collecting python-dotenv>=0.21.0 (from pydantic-settings<3.0.0,>=2.4.0->langchain_community)\n",
      "  Downloading python_dotenv-1.0.1-py3-none-any.whl.metadata (23 kB)\n",
      "Requirement already satisfied: charset-normalizer<4,>=2 in /usr/local/lib/python3.11/dist-packages (from requests<3,>=2->langchain) (3.4.1)\n",
      "Requirement already satisfied: idna<4,>=2.5 in /usr/local/lib/python3.11/dist-packages (from requests<3,>=2->langchain) (3.10)\n",
      "Requirement already satisfied: urllib3<3,>=1.21.1 in /usr/local/lib/python3.11/dist-packages (from requests<3,>=2->langchain) (2.3.0)\n",
      "Requirement already satisfied: certifi>=2017.4.17 in /usr/local/lib/python3.11/dist-packages (from requests<3,>=2->langchain) (2025.1.31)\n",
      "Requirement already satisfied: greenlet!=0.4.17 in /usr/local/lib/python3.11/dist-packages (from SQLAlchemy<3,>=1.4->langchain) (3.1.1)\n",
      "Requirement already satisfied: regex>=2022.1.18 in /usr/local/lib/python3.11/dist-packages (from tiktoken<1,>=0.7->langchain_openai) (2024.11.6)\n",
      "Requirement already satisfied: httpcore==1.* in /usr/local/lib/python3.11/dist-packages (from httpx<1,>=0.23.0->langsmith<0.4,>=0.1.17->langchain) (1.0.7)\n",
      "Requirement already satisfied: h11<0.15,>=0.13 in /usr/local/lib/python3.11/dist-packages (from httpcore==1.*->httpx<1,>=0.23.0->langsmith<0.4,>=0.1.17->langchain) (0.14.0)\n",
      "Requirement already satisfied: jsonpointer>=1.9 in /usr/local/lib/python3.11/dist-packages (from jsonpatch<2.0,>=1.33->langchain-core<1.0.0,>=0.3.35->langchain) (3.0.0)\n",
      "Collecting mypy-extensions>=0.3.0 (from typing-inspect<1,>=0.4.0->dataclasses-json<0.7,>=0.5.7->langchain_community)\n",
      "  Downloading mypy_extensions-1.0.0-py3-none-any.whl.metadata (1.1 kB)\n",
      "Downloading langchain_openai-0.3.7-py3-none-any.whl (55 kB)\n",
      "\u001b[2K   \u001b[90m━━━━━━━━━━━━━━━━━━━━━━━━━━━━━━━━━━━━━━━━\u001b[0m \u001b[32m55.3/55.3 kB\u001b[0m \u001b[31m3.7 MB/s\u001b[0m eta \u001b[36m0:00:00\u001b[0m\n",
      "\u001b[?25hDownloading langchain_community-0.3.19-py3-none-any.whl (2.5 MB)\n",
      "\u001b[2K   \u001b[90m━━━━━━━━━━━━━━━━━━━━━━━━━━━━━━━━━━━━━━━━\u001b[0m \u001b[32m2.5/2.5 MB\u001b[0m \u001b[31m29.0 MB/s\u001b[0m eta \u001b[36m0:00:00\u001b[0m\n",
      "\u001b[?25hDownloading langchain-0.3.20-py3-none-any.whl (1.0 MB)\n",
      "\u001b[2K   \u001b[90m━━━━━━━━━━━━━━━━━━━━━━━━━━━━━━━━━━━━━━━━\u001b[0m \u001b[32m1.0/1.0 MB\u001b[0m \u001b[31m14.0 MB/s\u001b[0m eta \u001b[36m0:00:00\u001b[0m\n",
      "\u001b[?25hDownloading faiss_cpu-1.10.0-cp311-cp311-manylinux_2_28_x86_64.whl (30.7 MB)\n",
      "\u001b[2K   \u001b[90m━━━━━━━━━━━━━━━━━━━━━━━━━━━━━━━━━━━━━━━━\u001b[0m \u001b[32m30.7/30.7 MB\u001b[0m \u001b[31m21.3 MB/s\u001b[0m eta \u001b[36m0:00:00\u001b[0m\n",
      "\u001b[?25hDownloading dataclasses_json-0.6.7-py3-none-any.whl (28 kB)\n",
      "Downloading httpx_sse-0.4.0-py3-none-any.whl (7.8 kB)\n",
      "Downloading langchain_core-0.3.41-py3-none-any.whl (415 kB)\n",
      "\u001b[2K   \u001b[90m━━━━━━━━━━━━━━━━━━━━━━━━━━━━━━━━━━━━━━━━\u001b[0m \u001b[32m415.1/415.1 kB\u001b[0m \u001b[31m19.0 MB/s\u001b[0m eta \u001b[36m0:00:00\u001b[0m\n",
      "\u001b[?25hDownloading pydantic_settings-2.8.1-py3-none-any.whl (30 kB)\n",
      "Downloading tiktoken-0.9.0-cp311-cp311-manylinux_2_17_x86_64.manylinux2014_x86_64.whl (1.2 MB)\n",
      "\u001b[2K   \u001b[90m━━━━━━━━━━━━━━━━━━━━━━━━━━━━━━━━━━━━━━━━\u001b[0m \u001b[32m1.2/1.2 MB\u001b[0m \u001b[31m23.9 MB/s\u001b[0m eta \u001b[36m0:00:00\u001b[0m\n",
      "\u001b[?25hDownloading marshmallow-3.26.1-py3-none-any.whl (50 kB)\n",
      "\u001b[2K   \u001b[90m━━━━━━━━━━━━━━━━━━━━━━━━━━━━━━━━━━━━━━━━\u001b[0m \u001b[32m50.9/50.9 kB\u001b[0m \u001b[31m2.3 MB/s\u001b[0m eta \u001b[36m0:00:00\u001b[0m\n",
      "\u001b[?25hDownloading python_dotenv-1.0.1-py3-none-any.whl (19 kB)\n",
      "Downloading typing_inspect-0.9.0-py3-none-any.whl (8.8 kB)\n",
      "Downloading mypy_extensions-1.0.0-py3-none-any.whl (4.7 kB)\n",
      "Installing collected packages: python-dotenv, mypy-extensions, marshmallow, httpx-sse, faiss-cpu, typing-inspect, tiktoken, pydantic-settings, dataclasses-json, langchain-core, langchain_openai, langchain, langchain_community\n",
      "  Attempting uninstall: langchain-core\n",
      "    Found existing installation: langchain-core 0.3.40\n",
      "    Uninstalling langchain-core-0.3.40:\n",
      "      Successfully uninstalled langchain-core-0.3.40\n",
      "  Attempting uninstall: langchain\n",
      "    Found existing installation: langchain 0.3.19\n",
      "    Uninstalling langchain-0.3.19:\n",
      "      Successfully uninstalled langchain-0.3.19\n",
      "Successfully installed dataclasses-json-0.6.7 faiss-cpu-1.10.0 httpx-sse-0.4.0 langchain-0.3.20 langchain-core-0.3.41 langchain_community-0.3.19 langchain_openai-0.3.7 marshmallow-3.26.1 mypy-extensions-1.0.0 pydantic-settings-2.8.1 python-dotenv-1.0.1 tiktoken-0.9.0 typing-inspect-0.9.0\n"
     ]
    }
   ],
   "source": [
    "!pip install langchain langchain_openai langchain_community faiss-cpu"
   ]
  },
  {
   "cell_type": "code",
   "execution_count": 1,
   "metadata": {
    "executionInfo": {
     "elapsed": 10,
     "status": "ok",
     "timestamp": 1741138595967,
     "user": {
      "displayName": "조경원",
      "userId": "10205523497785796707"
     },
     "user_tz": -540
    },
    "id": "whmrC3Mb-XR1"
   },
   "outputs": [
    {
     "data": {
      "text/plain": [
       "True"
      ]
     },
     "execution_count": 1,
     "metadata": {},
     "output_type": "execute_result"
    }
   ],
   "source": [
    "from dotenv import load_dotenv\n",
    "\n",
    "load_dotenv()\n"
   ]
  },
  {
   "cell_type": "markdown",
   "metadata": {
    "id": "xc6nNIEb-1jd"
   },
   "source": [
    "## Loader"
   ]
  },
  {
   "cell_type": "code",
   "execution_count": 2,
   "metadata": {},
   "outputs": [
    {
     "name": "stdout",
     "output_type": "stream",
     "text": [
      "총 문서 수: 188\n"
     ]
    }
   ],
   "source": [
    "from langchain_community.document_loaders import PyPDFLoader\n",
    "\n",
    "# PDF 파일 경로 리스트\n",
    "pdf_files = [\n",
    "    \"2024년 하반기 3급 신입사원 채용 직무소개서.pdf\",\n",
    "    \"삼성전자 DS부문 24하 공채 직무기술서.pdf\"\n",
    "]\n",
    "\n",
    "# 모든 문서 로드\n",
    "docs = []\n",
    "for path in pdf_files:\n",
    "    loader = PyPDFLoader(path)\n",
    "    docs.extend(loader.load())\n",
    "\n",
    "# 총 로드된 문서 수 확인\n",
    "print(\"총 문서 수:\", len(docs))\n"
   ]
  },
  {
   "cell_type": "markdown",
   "metadata": {
    "id": "pS7a9X6q-_VR"
   },
   "source": [
    "## Splitter"
   ]
  },
  {
   "cell_type": "code",
   "execution_count": 4,
   "metadata": {
    "executionInfo": {
     "elapsed": 42,
     "status": "ok",
     "timestamp": 1741138621186,
     "user": {
      "displayName": "조경원",
      "userId": "10205523497785796707"
     },
     "user_tz": -540
    },
    "id": "9L_RxLMS-C40"
   },
   "outputs": [],
   "source": [
    "from langchain.text_splitter import RecursiveCharacterTextSplitter\n",
    "\n",
    "text_splitter = RecursiveCharacterTextSplitter(\n",
    "    chunk_size=600, chunk_overlap=0)"
   ]
  },
  {
   "cell_type": "code",
   "execution_count": 5,
   "metadata": {
    "colab": {
     "base_uri": "https://localhost:8080/"
    },
    "executionInfo": {
     "elapsed": 31,
     "status": "ok",
     "timestamp": 1741138621218,
     "user": {
      "displayName": "조경원",
      "userId": "10205523497785796707"
     },
     "user_tz": -540
    },
    "id": "jEBjamDh-C72",
    "outputId": "0888a387-feee-4bc6-9fbb-c05c1b66ba50"
   },
   "outputs": [
    {
     "data": {
      "text/plain": [
       "374"
      ]
     },
     "execution_count": 5,
     "metadata": {},
     "output_type": "execute_result"
    }
   ],
   "source": [
    "split_doc1 = text_splitter.split_documents(docs)\n",
    "len(split_doc1)"
   ]
  },
  {
   "cell_type": "code",
   "execution_count": 6,
   "metadata": {
    "colab": {
     "base_uri": "https://localhost:8080/"
    },
    "executionInfo": {
     "elapsed": 23,
     "status": "ok",
     "timestamp": 1741138621243,
     "user": {
      "displayName": "조경원",
      "userId": "10205523497785796707"
     },
     "user_tz": -540
    },
    "id": "iNweWHTGwPMy",
    "outputId": "915c9d86-3287-46dd-f17a-108de8489093"
   },
   "outputs": [
    {
     "data": {
      "text/plain": [
       "Document(metadata={'producer': 'Microsoft® PowerPoint® 2016', 'creator': 'Microsoft® PowerPoint® 2016', 'creationdate': '2024-09-04T13:46:13+09:00', 'title': 'PowerPoint 프레젠테이션', 'author': 'admin', 'moddate': '2024-09-04T13:46:13+09:00', 'source': '2024년 하반기 3급 신입사원 채용 직무소개서.pdf', 'total_pages': 84, 'page': 1, 'page_label': '2'}, page_content='회로개발\\n회로 기술을 기반으로 삼성전자 제품 및 솔루션의 혁신적인 가치를 창출합니다')"
      ]
     },
     "execution_count": 6,
     "metadata": {},
     "output_type": "execute_result"
    }
   ],
   "source": [
    "split_doc1[0]"
   ]
  },
  {
   "cell_type": "markdown",
   "metadata": {
    "id": "KC9jmMgI_gBK"
   },
   "source": [
    "## Embedding model"
   ]
  },
  {
   "cell_type": "code",
   "execution_count": 7,
   "metadata": {
    "executionInfo": {
     "elapsed": 7181,
     "status": "ok",
     "timestamp": 1741138628425,
     "user": {
      "displayName": "조경원",
      "userId": "10205523497785796707"
     },
     "user_tz": -540
    },
    "id": "Pn5xyUbA-C-z"
   },
   "outputs": [],
   "source": [
    "from langchain_openai import OpenAIEmbeddings\n",
    "\n",
    "embeddings = OpenAIEmbeddings(model=\"text-embedding-3-small\")"
   ]
  },
  {
   "cell_type": "markdown",
   "metadata": {
    "id": "ZVaW3mM9-usq"
   },
   "source": [
    "## VectorStore 생성\n",
    "- FAISS는 고성능 벡터 검색 및 클러스터링을 위한 라이브러리입니다.\n",
    "- 이 클래스는 FAISS를 LangChain의 VectorStore 인터페이스와 통합합니다.\n",
    "- 임베딩 함수, FAISS 인덱스, 문서 저장소를 조합하여 효율적인 벡터 검색 시스템을 구축할 수 있습니다."
   ]
  },
  {
   "cell_type": "code",
   "execution_count": 8,
   "metadata": {
    "executionInfo": {
     "elapsed": 103,
     "status": "ok",
     "timestamp": 1741138629670,
     "user": {
      "displayName": "조경원",
      "userId": "10205523497785796707"
     },
     "user_tz": -540
    },
    "id": "gcH8-FrcJcty"
   },
   "outputs": [],
   "source": [
    "import faiss\n",
    "from langchain_community.vectorstores import FAISS"
   ]
  },
  {
   "cell_type": "markdown",
   "metadata": {
    "id": "HmzEt4hOAxn1"
   },
   "source": [
    "### from_documents()\n",
    "- `from_documents` 클래스 메서드는 문서 리스트와 임베딩 함수를 사용하여 FAISS 벡터 저장소를 생성합니다.\n",
    "- 매개변수\n",
    "  - `documents (List[Document])`: 벡터 저장소에 추가할 문서 리스트\n",
    "  - `embedding (Embeddings)`: 사용할 임베딩 함수\n",
    "  - `**kwargs`: 추가 키워드 인자"
   ]
  },
  {
   "cell_type": "code",
   "execution_count": 9,
   "metadata": {
    "colab": {
     "base_uri": "https://localhost:8080/"
    },
    "executionInfo": {
     "elapsed": 63,
     "status": "ok",
     "timestamp": 1741138629734,
     "user": {
      "displayName": "조경원",
      "userId": "10205523497785796707"
     },
     "user_tz": -540
    },
    "id": "va-l4QOxxHH1",
    "outputId": "e203083f-e5e2-4f5e-f8cb-f9e939f74d5e"
   },
   "outputs": [
    {
     "data": {
      "text/plain": [
       "Document(metadata={'producer': 'Microsoft® PowerPoint® 2016', 'creator': 'Microsoft® PowerPoint® 2016', 'creationdate': '2024-09-04T13:46:13+09:00', 'title': 'PowerPoint 프레젠테이션', 'author': 'admin', 'moddate': '2024-09-04T13:46:13+09:00', 'source': '2024년 하반기 3급 신입사원 채용 직무소개서.pdf', 'total_pages': 84, 'page': 1, 'page_label': '2'}, page_content='회로개발\\n회로 기술을 기반으로 삼성전자 제품 및 솔루션의 혁신적인 가치를 창출합니다')"
      ]
     },
     "execution_count": 9,
     "metadata": {},
     "output_type": "execute_result"
    }
   ],
   "source": [
    "split_doc1[0]"
   ]
  },
  {
   "cell_type": "code",
   "execution_count": 10,
   "metadata": {
    "executionInfo": {
     "elapsed": 834,
     "status": "ok",
     "timestamp": 1741138630569,
     "user": {
      "displayName": "조경원",
      "userId": "10205523497785796707"
     },
     "user_tz": -540
    },
    "id": "a84xsqpK-DIJ"
   },
   "outputs": [],
   "source": [
    "# DB 생성\n",
    "db_docs = FAISS.from_documents(\n",
    "    documents=split_doc1, embedding=embeddings)"
   ]
  },
  {
   "cell_type": "code",
   "execution_count": 11,
   "metadata": {
    "colab": {
     "base_uri": "https://localhost:8080/"
    },
    "executionInfo": {
     "elapsed": 7,
     "status": "ok",
     "timestamp": 1741138630594,
     "user": {
      "displayName": "조경원",
      "userId": "10205523497785796707"
     },
     "user_tz": -540
    },
    "id": "jKuFatr8xqeB",
    "outputId": "9874d34b-ec06-4017-815a-363395ce9c09"
   },
   "outputs": [
    {
     "data": {
      "text/plain": [
       "374"
      ]
     },
     "execution_count": 11,
     "metadata": {},
     "output_type": "execute_result"
    }
   ],
   "source": [
    "len(split_doc1)"
   ]
  },
  {
   "cell_type": "code",
   "execution_count": null,
   "metadata": {
    "colab": {
     "base_uri": "https://localhost:8080/"
    },
    "executionInfo": {
     "elapsed": 6,
     "status": "ok",
     "timestamp": 1741138630623,
     "user": {
      "displayName": "조경원",
      "userId": "10205523497785796707"
     },
     "user_tz": -540
    },
    "id": "Ln2AkMxfKQOB",
    "outputId": "baed2fc7-ffe7-4f45-cde9-2fcac009b71b"
   },
   "outputs": [
    {
     "data": {
      "text/plain": [
       "{0: '49646d52-5538-4b10-ba66-262883ef9d49',\n",
       " 1: 'cb52cc84-2e60-4893-9df2-fe76734df6fc',\n",
       " 2: 'f58efd82-8474-4505-92ef-7b0e14e8c82e',\n",
       " 3: '6d7931dc-7de4-4439-9515-26e265222fa2',\n",
       " 4: '7d3598ea-3be7-4ea8-bc4c-56654832c2ab',\n",
       " 5: '8bbdd53c-74dc-416f-97cd-16e59a861130',\n",
       " 6: '0d1cdec0-c4d4-4e3e-81c8-9c4590683a2f',\n",
       " 7: 'b1f36e94-20f7-4af0-a01d-64fed31b057f',\n",
       " 8: 'b1f4664d-9836-4773-bf17-72f6df45c05f',\n",
       " 9: '1c38d7ce-7325-4221-8233-c42befad0c23',\n",
       " 10: '7da4b39b-fdfb-4c36-a62f-069381a1fb14',\n",
       " 11: 'f32d2213-4958-4777-954d-7c0b97d8ae7a',\n",
       " 12: 'c901d3f1-681b-455e-a451-1820ac624369',\n",
       " 13: 'd51a5dca-05e6-4c35-9a93-9e0131f27284',\n",
       " 14: 'a2b84df1-c0ef-4363-acd4-a186dc284e37',\n",
       " 15: '4deff71d-65a4-469e-820c-025b5616b2d7',\n",
       " 16: '67b4f4ec-4105-402f-8028-648217113082',\n",
       " 17: 'a9b976d1-104e-478c-ba4b-84a65bfa3801',\n",
       " 18: '643ee865-848c-4c5a-98bc-e036abd4bd37',\n",
       " 19: 'efbec5d5-b942-4cd1-8507-28c54fef39ed',\n",
       " 20: '7c21f429-6088-4f41-b3e5-443cd95c58d6',\n",
       " 21: 'a789b45b-782e-4306-9e2e-eedc6e774114',\n",
       " 22: '38e23c05-560e-4206-bb23-2e023efffa57',\n",
       " 23: '38a86b41-886f-4b86-89ca-ff028e911c18',\n",
       " 24: '165535b7-680b-413b-bf73-c7a39b93fadd',\n",
       " 25: '20a077e6-7f89-479c-9082-7b60ffe75fcb',\n",
       " 26: 'f13bd1b9-2537-4f7f-a241-1993bbc422a8',\n",
       " 27: 'ac82f91d-0624-4d76-a4e3-4c3eb8d3c2c6',\n",
       " 28: 'e6567c63-d21f-4546-a69e-6f2eba190c8e',\n",
       " 29: '073511c3-3a85-42c7-ba8b-1e6d41a730fe',\n",
       " 30: 'e6dbea1c-4850-45d1-8939-8f5adff696cc',\n",
       " 31: '33140e83-2994-4037-8358-f78b5b6a746a',\n",
       " 32: '8d6d942b-c916-42a0-94b2-a3c24368fffe',\n",
       " 33: 'de31a611-8d8d-4d8a-b939-f64b41da24d0',\n",
       " 34: 'cf96b056-abd0-4a2d-80f7-f07e69a11da8',\n",
       " 35: '98102091-c185-4d5f-95fe-9b53b0f0ba9e',\n",
       " 36: 'a30f5e0d-8216-439d-9777-8cc3bee05136',\n",
       " 37: '5d77c414-4025-40ff-b475-8d9f2bb2f986',\n",
       " 38: '0109b6fe-6208-48b6-8297-0b9f42d3da0d',\n",
       " 39: '68a052a6-c957-43bc-8441-bb06a013dae1',\n",
       " 40: 'e0554131-3934-4b58-91b8-4b43e588262d',\n",
       " 41: '6cbdcd1b-9fa1-47eb-9e1d-0c9d3a98b5f0',\n",
       " 42: '73795c36-d661-4e64-8c1c-c83b27b1612d',\n",
       " 43: 'b4310342-381c-4fb3-9ec5-d1ab6a0a7ad9',\n",
       " 44: '156740f7-df20-40ec-b9d3-98aa732f7606',\n",
       " 45: '674fcf95-4c54-406d-87ae-220fc6c6c472',\n",
       " 46: '6b6ba486-d71a-4a53-a72c-2a92c6040892',\n",
       " 47: '4d726a11-ec47-46a4-97bc-26c42daf9d5f',\n",
       " 48: '9c3e8a3d-229b-4ac6-8a24-b2736b1336cb',\n",
       " 49: '0f9b91fb-f220-43d1-b8ab-58f87246fdec',\n",
       " 50: 'b27053e5-0f00-47a8-bbae-7a153c3581a9',\n",
       " 51: '3c2c64d1-1e45-46e8-906c-442050783a58',\n",
       " 52: '06158752-4f55-4ef7-9d9e-d958f77c9176',\n",
       " 53: 'efc79e7d-7cac-4cad-a0f8-869014c84691',\n",
       " 54: 'dfd0016b-2c16-4a74-a2e9-26751bb32359',\n",
       " 55: 'a8498c0d-f5d2-43b6-a350-70905aa64647',\n",
       " 56: '169a1160-2bd8-4422-bfc5-f22d728495dc',\n",
       " 57: 'adca020c-3cc1-4c81-8ba1-e98779bdf2b6',\n",
       " 58: '26912dc1-2d03-40de-b4e1-e0aa3bbb2c36',\n",
       " 59: 'a28ed9b1-c4e8-4335-bfe4-1a2a7c863c39',\n",
       " 60: '1eee88e3-9402-42e7-a8e9-914c80c477ba',\n",
       " 61: '070a8e50-4660-4216-9f7b-12cdd9416825',\n",
       " 62: '106434d7-65f8-4ddc-8e40-45ce1a60d394',\n",
       " 63: '8a792d13-71ca-4ba7-939d-8c1cae9b1c7c',\n",
       " 64: 'ff382ddf-0830-418e-b570-174a45bd5e0c',\n",
       " 65: 'b54a0a74-bc57-429a-9ab1-ebc68a1d6352',\n",
       " 66: '34cb3d33-c262-4e95-b28a-caf2a0cca717',\n",
       " 67: '48bff938-c24d-45dc-8a66-8e7d069d2b3c',\n",
       " 68: 'b3b66e7c-5409-48bc-9b35-fd1c86ddba22',\n",
       " 69: 'e937a7b2-9b61-4023-b510-27edaf3a4576',\n",
       " 70: 'e2f70db1-7d7b-4e2d-85d9-789db6e81a75',\n",
       " 71: 'eb5d25ac-774d-401f-a6aa-1aeb14463e1a',\n",
       " 72: 'a3612214-d543-4d25-b362-f4a5b9685ac5',\n",
       " 73: '39e666f6-7581-4aa5-8c47-aaa8e10cadcb',\n",
       " 74: '46e0cbfe-4d19-4874-809c-50b79256d3ea',\n",
       " 75: 'd3576d79-de1c-497f-9f01-3434a594e37b',\n",
       " 76: '53c0af25-7f86-454f-94ba-d15d9e4fed69',\n",
       " 77: '96a51975-5140-4a43-b3c7-4554235ecbe3',\n",
       " 78: '175b3a41-3437-4a80-9d2d-5e0a91ec996c',\n",
       " 79: 'd71cefa7-4445-4aab-a572-cee1e15f0f7f',\n",
       " 80: '3bcfeedc-6c5a-4348-8c95-85f8fde3d941',\n",
       " 81: '5673cc41-7ffe-41b1-9da0-3db1135f47cc',\n",
       " 82: '257134d7-1834-4a72-bda3-3b6e0e8b5043',\n",
       " 83: '33fb0b77-2c2b-4347-8665-c6f9389c364a',\n",
       " 84: 'efaa01ac-5877-4991-bd49-1f947fa63dbd',\n",
       " 85: '625a49f7-4853-4a71-bc5a-28378b91a557',\n",
       " 86: 'fec0d564-fbbc-4914-a70e-a8b67f427901',\n",
       " 87: '062eaadd-40a2-4ba9-96a3-7bcc96118898',\n",
       " 88: 'b092ff75-cf4c-42b4-88ce-254050b47e1d',\n",
       " 89: '6fde5d04-ec41-4b49-a028-2f0ec6cdb1be',\n",
       " 90: 'a188674b-0017-427d-9afa-e7d62415c6f6',\n",
       " 91: '739794e3-be87-4985-b003-2e9fba03f5d6',\n",
       " 92: 'b49f08c3-bb70-4109-b649-f0bfccf462b3',\n",
       " 93: '7cbbf04c-aacf-4281-a911-d8605a516399',\n",
       " 94: 'c15a9c3a-7d25-4217-8f5a-c6fe368beaaa',\n",
       " 95: 'a6950500-c616-4e28-b5c2-f5f30bf6dda0',\n",
       " 96: '76bc4689-80cc-47ab-b710-701f69e1a95a',\n",
       " 97: '7126855d-5a6b-4208-b897-8616178c05bf',\n",
       " 98: 'f924ed00-b4de-4fc0-aec0-5ebeb1dbf4f2',\n",
       " 99: '39668ddf-d6f4-41d8-a6e4-14bbda0103c9',\n",
       " 100: 'd95e17f0-494a-40a8-8874-a2d8969b6b9a',\n",
       " 101: '250c2bd1-8195-4638-8615-6926393c99c5',\n",
       " 102: '5d609b62-e008-401f-aafe-c2cc2ab76675',\n",
       " 103: 'e9df36e9-94e1-46ba-8c6f-0140db18f43f',\n",
       " 104: '8ea9ad18-81ad-43c3-950f-35f8048b14d8',\n",
       " 105: '3f204a1e-43ad-47b7-933b-d9a43ee5a1c2',\n",
       " 106: 'b159e2bc-0ba6-478f-a228-0d30135a7696',\n",
       " 107: '8252c5ad-4971-4619-b2f1-062207c4cbe8',\n",
       " 108: 'ed5c8220-2999-4a72-b495-5544371f1444',\n",
       " 109: '9aa3dff4-9049-48a6-87c9-a533a063fdad',\n",
       " 110: 'c5ace775-7078-4f99-800a-77fc69fe0e3c',\n",
       " 111: 'fd9c204c-ca25-44d9-bd58-048d62736c6b',\n",
       " 112: '3b77d008-b3e6-475e-a5fc-9dcf7c0718ed',\n",
       " 113: '88892966-f37c-480c-b94a-ba077fd7feff',\n",
       " 114: '03f53e88-4265-43d6-84a8-5071c0d10d6c',\n",
       " 115: '6a83e532-a3c6-4e28-bcae-920cb0033c5a',\n",
       " 116: '1367dbac-1e30-4352-bd83-467907508ce3',\n",
       " 117: 'a1b672eb-acd3-4acb-b32c-32b13fb442b8',\n",
       " 118: '33e2938c-4089-4dc6-a48b-cb9aae19ee69',\n",
       " 119: 'd81a00f3-89e2-47ac-a144-6a89c3bfa9a5',\n",
       " 120: '23cba83e-a253-4e5f-961c-977b9a867f7e',\n",
       " 121: '2fb80c73-7a35-4208-b993-22b4f546a4b9',\n",
       " 122: 'b26c4c7c-ca1a-4c7d-bd94-c75029a33cf1',\n",
       " 123: 'c4e10e5f-791b-4288-a2ad-ac5c5fff1639',\n",
       " 124: 'e32e9cdd-8fb2-414c-a63d-5c8b49c866e9',\n",
       " 125: '7ea54556-06f4-464b-b2da-8b828663a75d',\n",
       " 126: 'f25d947d-64cf-4e6f-be4c-6e035d2115f0',\n",
       " 127: '3af9fccd-843b-4a55-979e-1125372d3857',\n",
       " 128: '5dee1ded-fd91-47dd-a16f-a798976d7219',\n",
       " 129: '4216b5cd-1b00-4617-8be0-f6c0c9baef7e',\n",
       " 130: '1ff75b45-366f-49b7-846c-abe192c65a61',\n",
       " 131: '1efaa3a8-b414-4336-a319-afacaf18f356',\n",
       " 132: '12c98aea-3223-4320-8db4-3df44c829821',\n",
       " 133: '83f0f73a-7b92-49c7-8189-90dbeb4f3694',\n",
       " 134: '38c8867f-7eec-4e6d-acd3-b09d73c07c50',\n",
       " 135: '7470b06c-9568-4b43-8838-8be35f89b42f',\n",
       " 136: '7b161800-cbc5-41f7-b2de-09a127f49924',\n",
       " 137: '70ea677a-f83e-49bc-bee1-595d099099ad',\n",
       " 138: '89f9d86b-7556-4a19-888f-e33bf6dc3cee',\n",
       " 139: '23b4b34a-4c56-42e3-843c-ed826bbb9193',\n",
       " 140: 'c42cefac-6dab-472a-be56-2319d2e70d6d',\n",
       " 141: 'cd5d5a6e-6a1c-4fae-bc13-49b70640374f',\n",
       " 142: 'ae421d63-633c-4465-a6ca-93d1c30f3158',\n",
       " 143: '43fd27df-48b2-4652-b49d-a466cc974b92',\n",
       " 144: 'c470dcc6-b1e7-479c-886a-5da587eb0e59',\n",
       " 145: '75367cb8-4146-4c46-8892-0834ce288cee',\n",
       " 146: 'f93add75-f3d9-4745-811d-10dc4d8f08b1',\n",
       " 147: 'bb6ed021-f239-494e-bebf-a1b2e7bca2ba',\n",
       " 148: '5801d918-9577-4ba5-9f10-d0bf57458c90',\n",
       " 149: 'faa223ac-c30d-450f-aa7e-f75b80e49a7d',\n",
       " 150: '7e7635cf-4163-4e2a-9229-85a4d6f808b0',\n",
       " 151: '5826947b-7295-4b00-bbe7-0e769c4784d9',\n",
       " 152: 'c9fbfb19-b5d9-4791-b28d-3de6155a1c80',\n",
       " 153: '63ea4d55-e439-4a26-8500-04bd2803ab74',\n",
       " 154: 'cd93a09b-032c-4754-be4a-403cc362ac14',\n",
       " 155: 'aa1e5f06-53ab-4bdd-a5b8-dce160913031',\n",
       " 156: 'ef84a6bc-8859-4605-b7fd-d6253d46f5e0',\n",
       " 157: '60e38c97-ee54-44ac-b69a-097ec9163a7a',\n",
       " 158: '0c0e7140-4085-4cc2-96de-c550ea6b31ae',\n",
       " 159: '11ef948f-1658-4ca7-889e-16b1d3099b45',\n",
       " 160: '385ce683-b2d9-4c35-a99b-1bdde5da0c88',\n",
       " 161: '75cc4b36-beb6-4663-9bbe-4933319d4b4b',\n",
       " 162: 'db079864-711e-47b5-8833-cdfb9b37c723',\n",
       " 163: 'c6723801-8a8a-4d83-b663-4dadb3079073',\n",
       " 164: '335870de-5c2a-4c25-8ccf-7e78eb4e0dd2',\n",
       " 165: '592e501f-50e7-4e34-88a5-bcf3bf7e9772',\n",
       " 166: '73772a3c-6466-4a9f-8dbf-18a7afcb1ef2',\n",
       " 167: 'ebf4e7ca-ef20-4823-8a9d-a9b937836197',\n",
       " 168: '95362830-ccef-49c5-bb99-8843750aa806',\n",
       " 169: '6ae07fe9-4f27-4ffe-bdae-6a8af9b94c40',\n",
       " 170: '8371d3a7-b4f7-45e4-94fe-809276630565',\n",
       " 171: '85a2591e-5c8c-4464-bdb9-16b80bf56203',\n",
       " 172: 'f673383f-81ed-4411-a51c-db86bbad4393',\n",
       " 173: 'e47515bb-6408-4113-bd11-bfc3b6b9f2ac',\n",
       " 174: '23e95293-d511-4e2e-8c26-5fdd817d835f',\n",
       " 175: 'e96be853-3059-45ec-8754-582db27f0680',\n",
       " 176: '7c2c9c95-4cf9-4dc0-b25e-48d993638938',\n",
       " 177: '04f88fb2-7194-48ac-88ee-80d29b659a2a',\n",
       " 178: '2561d35b-50ff-4e57-a08d-28b73ff680b6',\n",
       " 179: 'c3ae53cf-f66a-4c13-a292-51ae11e293a9',\n",
       " 180: '5782e8e5-0843-4c5c-950d-54e1a4e95b9c',\n",
       " 181: 'fd12cf1f-832f-46cf-8f72-5e591150e09c',\n",
       " 182: '01a72460-0caa-4e64-88ab-e5697308eea5',\n",
       " 183: '3e5d6552-43db-4364-b31c-347df095ee15',\n",
       " 184: '9727016a-45ba-48ed-8dc3-d03cf8574caa',\n",
       " 185: '3ea0daec-dad9-4bb9-8c14-f0959989d74f',\n",
       " 186: '3499e129-9007-453e-83c6-dac407c3b370',\n",
       " 187: '4fef783e-d882-4c69-84c2-4f6c4418b8b0',\n",
       " 188: '6a40571c-4b97-4ea8-9ea3-02db223797c7',\n",
       " 189: '771b92e5-6ac8-4a28-b355-06e806344f7b',\n",
       " 190: '9b791245-e5da-40b7-a608-ed26a36f8164',\n",
       " 191: '84517622-8e8f-43f7-9bad-290418bbd7d5',\n",
       " 192: '6e5cc842-3e44-4e2a-9359-674891b88b42',\n",
       " 193: '9402e93d-f32d-43cc-9bbd-f83b21103a40',\n",
       " 194: 'aee11f9c-9c96-4458-afda-a820bf770ab8',\n",
       " 195: '6627c1b5-1520-4633-85fc-c81486c1d564',\n",
       " 196: 'e16a42a6-9744-4511-a746-eb2bb67d3921',\n",
       " 197: 'c2396d52-4abd-4fca-9cbb-6bf08ee94de3',\n",
       " 198: '15cdf21d-9ceb-4c1d-a016-9ece82717542',\n",
       " 199: '71310599-99a9-4967-a875-62c6ebea9338',\n",
       " 200: '929afade-3f22-4a4a-9b6f-95f094edd048',\n",
       " 201: '8b4dc34c-c802-4168-8287-f267f223a402',\n",
       " 202: '1d3a2be2-e47d-48b3-a192-9d751ec03c8b',\n",
       " 203: 'c5b287a2-8f04-4fcc-aaf0-91cfba5e4e60',\n",
       " 204: '28257e20-e6d8-4ae5-af7e-8caa97d478df',\n",
       " 205: '2e708df3-2fd1-4a71-87b8-5dc40173c786',\n",
       " 206: '2f455d7a-2c07-4530-ba53-599d6b338edb',\n",
       " 207: 'bb700250-f379-4c09-bb28-af20d7b42b5c',\n",
       " 208: '92a6b144-46cc-48a5-b283-30123b4a4b14',\n",
       " 209: 'ddcb92a9-e380-42f1-91be-dad0b642bb28',\n",
       " 210: '0a75f318-7112-48e7-875b-b2adce920397',\n",
       " 211: 'b6d6b2dc-9a8b-4d16-b4ca-c361eb254263',\n",
       " 212: '0d8f5839-a53a-43bb-bb18-3fcf165f6d81',\n",
       " 213: 'a4c7886e-143e-4da8-9403-662cf034f5a5',\n",
       " 214: 'fe45e441-0ab8-4dca-bcd9-01a1b6ae8e46',\n",
       " 215: 'e60159cf-d460-4cb9-b85c-9dac4052f391',\n",
       " 216: 'f1c00f0c-ac97-4c66-92fa-15068ec5bad0',\n",
       " 217: 'f21f4cf0-75a8-438c-b1d6-67a68967a080',\n",
       " 218: 'aeb117de-f887-406b-83ea-39bd0c79ef4c',\n",
       " 219: '2d1e2ece-6a0d-4111-a914-846f4d212b32',\n",
       " 220: '320c3c50-9ffc-4f18-b4fe-de6c9e9c5db6',\n",
       " 221: '16d2e7b1-5bb6-4f34-a688-51417beff8d3',\n",
       " 222: 'c004f0c6-6668-4d21-8921-00d4ba1ab45d',\n",
       " 223: '526ad9df-29a1-46d8-8825-41fa559177e9',\n",
       " 224: '472f06c8-89ec-402b-b8e1-5f541038526e',\n",
       " 225: '1e06a4fb-a951-4b97-b224-c353177d98d8',\n",
       " 226: 'a861430b-347f-4f17-bbb4-2068495af36e',\n",
       " 227: '07651dd8-366d-40d9-a9f9-08c2900aab98',\n",
       " 228: '6682f068-eaaf-415e-96db-4c8dc7f26151',\n",
       " 229: '7430248e-5cb4-4794-a928-f34edb0b16d0',\n",
       " 230: 'f52d2619-d36d-4181-9074-3eb66dd601f6',\n",
       " 231: '8d5fcb38-7873-4832-bb86-deecd43c67ed',\n",
       " 232: 'f7158f9b-7652-45ff-a1cb-21b292091767',\n",
       " 233: '1314f242-c464-452e-90d7-2c7d4b7631de',\n",
       " 234: '807efbf5-fc92-4aec-bc0d-021d24de4bfd',\n",
       " 235: '340f0832-2877-4072-a4bd-4a6d945cf7f3',\n",
       " 236: '5602ac79-2d8a-4c22-aea6-2429c6eff793',\n",
       " 237: '7ecbcb24-07ad-4e49-b604-3bbe0b0a04f8',\n",
       " 238: '5b8400b9-336e-485d-b59e-2b5d9b6d5ae5',\n",
       " 239: 'bc665583-b322-41b8-b668-c627a446fbaf',\n",
       " 240: 'd2c7adbd-e057-48e0-b318-718e162fe76d',\n",
       " 241: '53caf20a-00b8-4fdd-98d3-075501d2594e',\n",
       " 242: '7b603201-cd9d-4bb0-91e3-2cd6b61f2c7b',\n",
       " 243: '34dd71b8-a6af-4bf6-838a-90ad6c844411',\n",
       " 244: '05014c3f-6b3a-4886-93d5-b821a368ba28',\n",
       " 245: 'e15fda26-eb57-449f-9817-6cd01527051f',\n",
       " 246: 'f921f689-aa86-41e0-aaf8-27caf5aa8435',\n",
       " 247: 'cf05a6e2-2ab0-444f-9150-9877bcb0cf29',\n",
       " 248: 'c977f294-a1ee-4d7d-baa0-62f7d6f4078d',\n",
       " 249: 'f02bc1b1-3e1a-4b9f-bd74-ed200b1497ee',\n",
       " 250: 'a45a5d61-8be7-41ce-9835-7910bc698ce4',\n",
       " 251: 'b83beea8-2049-42da-8145-a6705ceed2b9',\n",
       " 252: '1b84d846-e82f-4cad-8aa0-7d12ca8dfe09',\n",
       " 253: 'fdcd8175-aa1e-4e8d-8765-5eb0d09139bf',\n",
       " 254: 'fa4c076b-f212-4b6f-9e4e-ed1d2ef81b2a',\n",
       " 255: 'cafec09e-66e4-4865-b9d5-1dc84b91d999',\n",
       " 256: '0f1369f1-ec0a-4a97-a1ed-81e86fdff495',\n",
       " 257: 'd056dec4-4a56-4f14-a4d3-453ffdba9e96',\n",
       " 258: '8ddcee1d-c943-46cf-871f-3f1546936850',\n",
       " 259: '2a7887db-47cb-4765-b3b4-180474f32d6b',\n",
       " 260: '5c91874a-9549-41fa-8a28-7961be52439d',\n",
       " 261: '7f8c4813-a528-4916-8104-eabdfa005492',\n",
       " 262: '166e89b3-503a-4d8f-8150-d16fc74ced48',\n",
       " 263: 'd16ac66b-a789-4018-92bc-209fcaf0284f',\n",
       " 264: '5bcb050f-e655-4121-824b-fd2009614888',\n",
       " 265: 'f2647fa5-b4c0-4912-beb8-6b03a55cb488',\n",
       " 266: '3bcceb99-f9a9-4048-88d6-3dc5f0dcb96c',\n",
       " 267: '6e08cdbf-2db9-4198-be1d-94fd3864dc8f',\n",
       " 268: '55363c41-8cf5-48a9-b28f-f6f444050216',\n",
       " 269: '9f6d8dd8-26b6-4aa0-851b-fc851c944853',\n",
       " 270: 'eac6b123-4cdf-42fe-ac76-45ef760ce273',\n",
       " 271: '6b2f2b89-cd7c-40d8-ab1d-9f602c07c1f0',\n",
       " 272: 'a818c290-65b0-425f-bfc1-a7fe2db311ba',\n",
       " 273: '34b6f83f-dec1-422b-b511-bbd0d347574e',\n",
       " 274: '0e18d7b9-70d3-4bc4-8604-b76e4623fbb7',\n",
       " 275: '8408ced3-d022-4336-95af-649c1ddda30b',\n",
       " 276: '9445e143-6f33-4377-b2e5-dac48cea859f',\n",
       " 277: 'f950d2a0-89b8-4183-b6e3-7f2d730e3db9',\n",
       " 278: '70173a9e-66ca-49f8-9953-176caa0f3949',\n",
       " 279: '1e26a828-78cc-4a5c-8849-36dcc7a51dda',\n",
       " 280: '9928449b-2d45-4f9d-8762-1ab5c7bd91ff',\n",
       " 281: 'a84ecbb9-4e67-46d9-a2a4-87acf787dcab',\n",
       " 282: '574dc19c-3fb3-4505-9835-a8e002c6683f',\n",
       " 283: '7f63bc74-17e6-4fb0-94a0-cc03b8b7f88c',\n",
       " 284: '2deb9257-d36f-4ff6-840c-1d05d0ee8b08',\n",
       " 285: '7f6d552a-0b0b-4bdf-8a0f-b11c3810bbfd',\n",
       " 286: '30245c55-fe0e-4bbd-acbb-5be4d04133f8',\n",
       " 287: 'd0ca11cf-9d4c-4f93-94c1-92651c5cf2a0',\n",
       " 288: '8119fddf-9e7e-4278-a7f8-aa72879c68f5',\n",
       " 289: 'dd12c73a-e72b-457a-8543-5a030da5fbde',\n",
       " 290: '4b618a1e-7852-4381-97b8-a167deb7fe0e',\n",
       " 291: '894a1589-df4e-4542-b8c6-4dcea6b4f22a',\n",
       " 292: '590b27b5-12cc-4541-bfc7-98a5d1c52d86',\n",
       " 293: '0c4231d4-5fed-4d12-8a00-555285fe2bec',\n",
       " 294: 'b6818941-1c4d-488f-9eac-547ad7bd12c0',\n",
       " 295: '758f6142-2423-4314-bd94-75336b237afd',\n",
       " 296: 'eb4337ae-49b4-4e2f-9c07-c1fb24d22079',\n",
       " 297: '6c6e636c-71ee-4dd4-81e7-097e7f60842f',\n",
       " 298: 'ba3beeaa-b31e-4668-9115-c47297bca5d5',\n",
       " 299: '6b61cd98-4e35-41dc-822a-0865ebe4c36e',\n",
       " 300: '701438f6-e48c-4088-bc30-a653beb8fff1',\n",
       " 301: '506901a3-b096-4cb2-b2be-6a0bfb125f33',\n",
       " 302: '253e4077-c80b-4eb7-bba1-5e4e952c5dbf',\n",
       " 303: 'b953c9fc-61bb-4e42-83eb-633a8aa39529',\n",
       " 304: '39e84188-ba18-435c-b243-7a7e2a6ee5bc',\n",
       " 305: '23b7584b-98c6-425d-a2a0-d8c3a9a6b025',\n",
       " 306: '64788602-c39a-4813-b207-d09db209cf86',\n",
       " 307: '47a77404-1acc-4a15-85a6-4786d3f47f3c',\n",
       " 308: 'dbed60b7-4343-44f3-bd74-a4722e86d73e',\n",
       " 309: '932c1784-5d25-44b4-82d6-f4fa4f14f939',\n",
       " 310: '842add6e-6af6-4d32-bffa-2641198d11c3',\n",
       " 311: '80d6c496-d7e3-460d-b93e-c4e7d65c1def',\n",
       " 312: 'a6e40a02-2986-405c-b973-880fdc94e52f',\n",
       " 313: '2b91765e-3b10-40cd-961f-2217c16205ff',\n",
       " 314: '7b75f909-6418-43bd-94c7-a33bf18d5b2d',\n",
       " 315: '3830bcec-496b-484f-93a8-fd4a37f2af81',\n",
       " 316: 'e817c17f-5c89-42fd-a4db-31d53519fe55',\n",
       " 317: 'd10b9ede-496c-445b-a074-03c4b5eba1c2',\n",
       " 318: 'ab332e85-5e4c-4394-890c-1708e3a9d808',\n",
       " 319: '426a0dba-2571-4e5d-ae92-1c0dfc765ae3',\n",
       " 320: '0db34d3e-0b2e-4f60-a774-e20e484bf3c9',\n",
       " 321: '2f40637e-7c33-4324-aee1-a85a73fcf513',\n",
       " 322: '5ffb760c-a592-4b87-96f0-9486f7c98b33',\n",
       " 323: '95a05da0-9fb4-454a-a3f5-ac721b042f4f',\n",
       " 324: 'a99bf0be-13af-48a4-a750-04563be62448',\n",
       " 325: '794596b3-e3b1-45bd-8ada-27d0d5e118e7',\n",
       " 326: 'de458e98-31a9-4733-9617-9d1435d8c9b2',\n",
       " 327: 'a9fc4eae-184a-407d-ad6c-7a468ba34f40',\n",
       " 328: 'be22a0da-3999-4ede-b565-38e8acf945bf',\n",
       " 329: '4948f1b2-7bc3-4e61-8c36-dcce56e0e715',\n",
       " 330: 'c03dee31-d286-475c-90ff-373f59e4719f',\n",
       " 331: 'f8f73b1d-94b3-49b8-9bf7-f1a405a20416',\n",
       " 332: '001f51b4-d48d-4185-9ce8-68584be3b901',\n",
       " 333: 'f244ec09-0351-490c-b269-7b7426a7c8ab',\n",
       " 334: '5d8406ee-2bb6-4521-b642-063155e81c2e',\n",
       " 335: 'a459ca59-88ca-4fce-bb04-b706197e180d',\n",
       " 336: 'ce538c06-15b2-449a-892b-ab86ea244271',\n",
       " 337: '0755f177-1e99-47ba-9bfc-1c7b84f09c2c',\n",
       " 338: '6e7dca1f-dfb0-4c1c-a00b-3335ced72ec8',\n",
       " 339: '6f5b1bee-a9d6-4c72-92a1-c29c6b925410',\n",
       " 340: 'fda5b740-0881-4c41-ac4b-7fc921e847f4',\n",
       " 341: 'b79837d6-a600-4528-98d6-e2f30a86a680',\n",
       " 342: '3b8abaaf-9031-49af-a062-7073f402ebe9',\n",
       " 343: '8d0f66bf-59b2-4574-b967-337f73c7cec8',\n",
       " 344: '9ecbd17b-cf9f-4341-a57b-95815561a1cd',\n",
       " 345: '29e3b5e2-dc5d-4f5c-be55-f60be202806c',\n",
       " 346: '31bc10b8-4d08-407e-895a-899c9a06aa8e',\n",
       " 347: '75ebb138-1694-42d7-a4c7-1b713590ae26',\n",
       " 348: '3320194b-ba52-4c06-a784-ddeaedb8659f',\n",
       " 349: 'ad16571f-e6bb-43ce-ae72-615098625b34',\n",
       " 350: '890e434e-6607-4ab4-ab3e-416287cf5f5c',\n",
       " 351: '85be0855-7529-46dc-8ea4-771959bc928f',\n",
       " 352: 'c3b8a73f-ae5b-4276-9cd5-acf13c35b581',\n",
       " 353: '57a798b5-8cb6-4fd5-a8a1-2d7cdb1f35dc',\n",
       " 354: 'fd25d1ef-0bde-4c9c-a8a1-ab295b907479',\n",
       " 355: '7a877f3b-b73e-4a7b-9b0b-ca6b9276bfcb',\n",
       " 356: 'b3e4db87-0054-4781-a555-6dbbe317c9a8',\n",
       " 357: '58c125ed-1b42-4684-a343-c8863beb30e0',\n",
       " 358: 'bc057a04-f85d-4ac0-aa4d-8b6e6adafc5b',\n",
       " 359: '498b48ca-f58b-4a1f-add4-819d45db81bd',\n",
       " 360: '851be8fd-50a4-4baa-ac6a-9c6414818ac1',\n",
       " 361: '6ae1ae46-785c-4e90-aa3f-a64191f7a8af',\n",
       " 362: '1be9d546-5082-44b6-a22b-f1c9ccdf3434',\n",
       " 363: '7867360b-e945-49f9-8840-fe5394ff499d',\n",
       " 364: 'f1817a6f-c142-4727-95e0-3504fbc4d0bd',\n",
       " 365: 'b8a4ac34-54ab-4f70-bd6b-285f264eda75',\n",
       " 366: '6d8d2c43-d0a9-4b74-902e-b4ba16233e01',\n",
       " 367: 'd3cde048-ba43-4bf5-b0de-4ca3a14a1f43',\n",
       " 368: '3e3738b0-5a76-4829-8888-647084a0459c',\n",
       " 369: '13c0217d-df43-4ff9-87b7-bc3332592241',\n",
       " 370: '89772729-34bf-4a93-848c-deedf24b652d',\n",
       " 371: 'b3896d76-4a26-418c-90f1-b01591e565fe',\n",
       " 372: 'c7256fb0-562c-4223-b177-8be0a24baf62',\n",
       " 373: 'dcbab289-c181-45e8-bb61-6b02408021ef'}"
      ]
     },
     "execution_count": 12,
     "metadata": {},
     "output_type": "execute_result"
    }
   ],
   "source": [
    "db_docs.index_to_docstore_id"
   ]
  },
  {
   "cell_type": "code",
   "execution_count": 13,
   "metadata": {},
   "outputs": [],
   "source": [
    "db_docs.save_local(folder_path=\"faiss_db\", index_name=\"faiss_index\")"
   ]
  },
  {
   "cell_type": "markdown",
   "metadata": {
    "id": "IDifeiSyGBiz"
   },
   "source": [
    "### 로컬에서 불러오기 (Load Local)\n",
    "- load_local 클래스 메서드는 로컬 디스크에 저장된 FAISS 인덱스, 문서 저장소, 그리고 인덱스-문서 ID 매핑을 불러오는 기능을 제공합니다.\n",
    "- 매개변수\n",
    "  - `folder_path (str)`: 불러올 파일들이 저장된 폴더 경로\n",
    "  - `embeddings (Embeddings)`: 쿼리 생성에 사용할 임베딩 객체\n",
    "  - `index_name (str)`: 불러올 인덱스 파일 이름 (기본값: \"index\")\n",
    "  - `allow_dangerous_deserialization (bool)`: pickle 파일 역직렬화 허용 여부 (기본값: False)"
   ]
  },
  {
   "cell_type": "code",
   "execution_count": 36,
   "metadata": {
    "executionInfo": {
     "elapsed": 0,
     "status": "ok",
     "timestamp": 1741138668372,
     "user": {
      "displayName": "조경원",
      "userId": "10205523497785796707"
     },
     "user_tz": -540
    },
    "id": "zt9YjtfuEdU7"
   },
   "outputs": [],
   "source": [
    "# 저장된 데이터를 로드\n",
    "loaded_db = FAISS.load_local(\n",
    "    folder_path=\"faiss_db\",\n",
    "    index_name=\"faiss_index\",\n",
    "    embeddings=embeddings,\n",
    "    allow_dangerous_deserialization=True,\n",
    ")"
   ]
  },
  {
   "cell_type": "code",
   "execution_count": 37,
   "metadata": {
    "colab": {
     "base_uri": "https://localhost:8080/"
    },
    "executionInfo": {
     "elapsed": 31,
     "status": "ok",
     "timestamp": 1741138668424,
     "user": {
      "displayName": "조경원",
      "userId": "10205523497785796707"
     },
     "user_tz": -540
    },
    "id": "ARWu9ZK9DqbA",
    "outputId": "24accac1-8a7e-45c8-d9cd-ed561d7a3864"
   },
   "outputs": [
    {
     "data": {
      "text/plain": [
       "{0: '6783edc9-3e30-4ec5-b40c-b1da201560d1',\n",
       " 1: '62e40f73-aa20-4a1c-9dda-78a558008ca7',\n",
       " 2: '8687eae6-c22c-4b16-9465-71830fe28856',\n",
       " 3: '29129a97-3992-42f0-a639-8fc72498f203',\n",
       " 4: 'cbe02339-29e8-447c-9f42-e8431c6384f5',\n",
       " 5: 'd9e83fac-0b4c-41bc-9424-2f285142dc0b',\n",
       " 6: 'd6d0264d-7018-44b9-932a-0977a7ba01de',\n",
       " 7: '46df286d-65b0-4d38-950f-bd1b51680240',\n",
       " 8: '897c840e-45d8-4df8-9f9b-0bcaafd2932e',\n",
       " 9: '3c712e5c-f0c3-4b0b-97b5-c5a7b32708cb',\n",
       " 10: 'ad0437c1-a33c-4ab9-9811-b76f766ea950'}"
      ]
     },
     "execution_count": 37,
     "metadata": {},
     "output_type": "execute_result"
    }
   ],
   "source": [
    "# 로드된 데이터를 확인\n",
    "loaded_db.index_to_docstore_id"
   ]
  },
  {
   "cell_type": "code",
   "execution_count": 38,
   "metadata": {
    "colab": {
     "base_uri": "https://localhost:8080/"
    },
    "executionInfo": {
     "elapsed": 6,
     "status": "ok",
     "timestamp": 1741138668431,
     "user": {
      "displayName": "조경원",
      "userId": "10205523497785796707"
     },
     "user_tz": -540
    },
    "id": "r61tmCS_LDOz",
    "outputId": "07ba9668-cdde-469c-e0a2-026e4632c369"
   },
   "outputs": [
    {
     "data": {
      "text/plain": [
       "Document(id='62e40f73-aa20-4a1c-9dda-78a558008ca7', metadata={'source': '/content/data/MyDrive/ai_lecture/5. Large Language Models/data/vector_db/nlp-keywords.txt'}, page_content='정의: 토크나이저는 텍스트 데이터를 토큰으로 분할하는 도구입니다. 이는 자연어 처리에서 데이터를 전처리하는 데 사용됩니다.\\n예시: \"I love programming.\"이라는 문장을 [\"I\", \"love\", \"programming\", \".\"]으로 분할합니다.\\n연관키워드: 토큰화, 자연어 처리, 구문 분석\\n\\nVectorStore\\n\\n정의: 벡터스토어는 벡터 형식으로 변환된 데이터를 저장하는 시스템입니다. 이는 검색, 분류 및 기타 데이터 분석 작업에 사용됩니다.\\n예시: 단어 임베딩 벡터들을 데이터베이스에 저장하여 빠르게 접근할 수 있습니다.\\n연관키워드: 임베딩, 데이터베이스, 벡터화\\n\\nSQL\\n\\n정의: SQL(Structured Query Language)은 데이터베이스에서 데이터를 관리하기 위한 프로그래밍 언어입니다. 데이터 조회, 수정, 삽입, 삭제 등 다양한 작업을 수행할 수 있습니다.\\n예시: SELECT * FROM users WHERE age > 18;은 18세 이상의 사용자 정보를 조회합니다.\\n연관키워드: 데이터베이스, 쿼리, 데이터 관리\\n\\nCSV')"
      ]
     },
     "execution_count": 38,
     "metadata": {},
     "output_type": "execute_result"
    }
   ],
   "source": [
    "db.docstore._dict[db.index_to_docstore_id[1]]"
   ]
  },
  {
   "cell_type": "markdown",
   "metadata": {
    "id": "tSonvADqP5Qo"
   },
   "source": [
    "## 검색"
   ]
  },
  {
   "cell_type": "markdown",
   "metadata": {
    "id": "TcZaosHmCx2Z"
   },
   "source": [
    "### 유사도 검색 (Similarity Search)\n",
    "- `similarity_search` 메서드는 주어진 쿼리와 가장 유사한 문서들을 검색하는 기능을 제공합니다.\n",
    "- 매개변수\n",
    "  - `query (str)`: 유사한 문서를 찾기 위한 검색 쿼리 텍스트\n",
    "  - `k (int)`: 반환할 문서 수. 기본값은 4\n",
    "  - `filter (Optional[Union[Callable, Dict[str, Any]]])`: 메타데이터 필터링 함수 또는 딕셔너리. 기본값은 None\n",
    "  - `fetch_k (int)`: 필터링 전에 가져올 문서 수. 기본값은 20\n",
    "  - `**kwargs`: 추가 키워드 인자"
   ]
  },
  {
   "cell_type": "code",
   "execution_count": 39,
   "metadata": {
    "executionInfo": {
     "elapsed": 656,
     "status": "ok",
     "timestamp": 1741138669086,
     "user": {
      "displayName": "조경원",
      "userId": "10205523497785796707"
     },
     "user_tz": -540
    },
    "id": "kay6TgnNLdpk"
   },
   "outputs": [],
   "source": [
    "db = FAISS.from_documents(\n",
    "    documents=split_doc1, embedding=embeddings)"
   ]
  },
  {
   "cell_type": "code",
   "execution_count": 40,
   "metadata": {
    "colab": {
     "base_uri": "https://localhost:8080/"
    },
    "executionInfo": {
     "elapsed": 6,
     "status": "ok",
     "timestamp": 1741138669094,
     "user": {
      "displayName": "조경원",
      "userId": "10205523497785796707"
     },
     "user_tz": -540
    },
    "id": "NTydYz3SLjHY",
    "outputId": "227ca3eb-340c-4318-ee4f-96c77748791d"
   },
   "outputs": [
    {
     "data": {
      "text/plain": [
       "{0: 'a8840c4a-38f4-4008-a437-070a84cecaa9',\n",
       " 1: '9c417992-3872-4648-94d1-5a230b9bd02f',\n",
       " 2: '63a684c6-cbf0-4f04-ad05-5d26a60f76fd',\n",
       " 3: '48abff8e-256a-4857-9c2f-e5738c220f29',\n",
       " 4: '3f56b9d5-bc70-4b8d-925a-dac6a2e3e28d',\n",
       " 5: 'cca72bda-c169-4251-86ee-c7e700b4a473',\n",
       " 6: 'f61cb925-e2e1-4c59-a51a-484b5e00ca41',\n",
       " 7: '2630dc6b-55b5-4bcc-b609-c9df8c63e80f',\n",
       " 8: '6a587118-15ce-43d0-9090-7cde064d1e61',\n",
       " 9: '1fd1fc36-2fb5-4622-ad11-66fb600fd4bb',\n",
       " 10: 'e0f51d87-0f7a-4c7f-afd0-39bfcdb8f922'}"
      ]
     },
     "execution_count": 40,
     "metadata": {},
     "output_type": "execute_result"
    }
   ],
   "source": [
    "db.index_to_docstore_id"
   ]
  },
  {
   "cell_type": "code",
   "execution_count": 41,
   "metadata": {
    "colab": {
     "base_uri": "https://localhost:8080/"
    },
    "executionInfo": {
     "elapsed": 4,
     "status": "ok",
     "timestamp": 1741138669099,
     "user": {
      "displayName": "조경원",
      "userId": "10205523497785796707"
     },
     "user_tz": -540
    },
    "id": "B0Y8e_UWLjjP",
    "outputId": "958f83e0-dc94-47a6-98b0-d353d41565f1"
   },
   "outputs": [
    {
     "data": {
      "text/plain": [
       "Document(id='a8840c4a-38f4-4008-a437-070a84cecaa9', metadata={'source': '/content/data/MyDrive/ai_lecture/5. Large Language Models/data/vector_db/nlp-keywords.txt'}, page_content='Semantic Search\\n\\n정의: 의미론적 검색은 사용자의 질의를 단순한 키워드 매칭을 넘어서 그 의미를 파악하여 관련된 결과를 반환하는 검색 방식입니다.\\n예시: 사용자가 \"태양계 행성\"이라고 검색하면, \"목성\", \"화성\" 등과 같이 관련된 행성에 대한 정보를 반환합니다.\\n연관키워드: 자연어 처리, 검색 알고리즘, 데이터 마이닝\\n\\nEmbedding\\n\\n정의: 임베딩은 단어나 문장 같은 텍스트 데이터를 저차원의 연속적인 벡터로 변환하는 과정입니다. 이를 통해 컴퓨터가 텍스트를 이해하고 처리할 수 있게 합니다.\\n예시: \"사과\"라는 단어를 [0.65, -0.23, 0.17]과 같은 벡터로 표현합니다.\\n연관키워드: 자연어 처리, 벡터화, 딥러닝\\n\\nToken\\n\\n정의: 토큰은 텍스트를 더 작은 단위로 분할하는 것을 의미합니다. 이는 일반적으로 단어, 문장, 또는 구절일 수 있습니다.\\n예시: 문장 \"나는 학교에 간다\"를 \"나는\", \"학교에\", \"간다\"로 분할합니다.\\n연관키워드: 토큰화, 자연어 처리, 구문 분석\\n\\nTokenizer')"
      ]
     },
     "execution_count": 41,
     "metadata": {},
     "output_type": "execute_result"
    }
   ],
   "source": [
    "db.docstore._dict[db.index_to_docstore_id[0]]"
   ]
  },
  {
   "cell_type": "markdown",
   "metadata": {
    "id": "kV4Bf7U7GiqQ"
   },
   "source": [
    "#### 유사도 검색"
   ]
  },
  {
   "cell_type": "code",
   "execution_count": 42,
   "metadata": {
    "colab": {
     "base_uri": "https://localhost:8080/"
    },
    "executionInfo": {
     "elapsed": 114,
     "status": "ok",
     "timestamp": 1741138669213,
     "user": {
      "displayName": "조경원",
      "userId": "10205523497785796707"
     },
     "user_tz": -540
    },
    "id": "Cq4Paek2DqeF",
    "outputId": "3160f982-4099-42bf-8260-63bc1eb0d592"
   },
   "outputs": [
    {
     "data": {
      "text/plain": [
       "4"
      ]
     },
     "execution_count": 42,
     "metadata": {},
     "output_type": "execute_result"
    }
   ],
   "source": [
    "# 유사도 검색\n",
    "result = db.similarity_search(\"TF IDF 에 대하여 알려줘\")\n",
    "len(result)"
   ]
  },
  {
   "cell_type": "code",
   "execution_count": 43,
   "metadata": {
    "colab": {
     "base_uri": "https://localhost:8080/"
    },
    "executionInfo": {
     "elapsed": 23,
     "status": "ok",
     "timestamp": 1741138669237,
     "user": {
      "displayName": "조경원",
      "userId": "10205523497785796707"
     },
     "user_tz": -540
    },
    "id": "PYDxEC6MLSNI",
    "outputId": "1075c685-e2a7-406d-caec-a040da89f205"
   },
   "outputs": [
    {
     "data": {
      "text/plain": [
       "Document(id='f61cb925-e2e1-4c59-a51a-484b5e00ca41', metadata={'source': '/content/data/MyDrive/ai_lecture/5. Large Language Models/data/vector_db/nlp-keywords.txt'}, page_content='정의: TF-IDF는 문서 내에서 단어의 중요도를 평가하는 데 사용되는 통계적 척도입니다. 이는 문서 내 단어의 빈도와 전체 문서 집합에서 그 단어의 희소성을 고려합니다.\\n예시: 많은 문서에서 자주 등장하지 않는 단어는 높은 TF-IDF 값을 가집니다.\\n연관키워드: 자연어 처리, 정보 검색, 데이터 마이닝\\n\\nDeep Learning\\n\\n정의: 딥러닝은 인공신경망을 이용하여 복잡한 문제를 해결하는 머신러닝의 한 분야입니다. 이는 데이터에서 고수준의 표현을 학습하는 데 중점을 둡니다.\\n예시: 이미지 인식, 음성 인식, 자연어 처리 등에서 딥러닝 모델이 활용됩니다.\\n연관키워드: 인공신경망, 머신러닝, 데이터 분석\\n\\nSchema\\n\\n정의: 스키마는 데이터베이스나 파일의 구조를 정의하는 것으로, 데이터가 어떻게 저장되고 조직되는지에 대한 청사진을 제공합니다.\\n예시: 관계형 데이터베이스의 테이블 스키마는 열 이름, 데이터 타입, 키 제약 조건 등을 정의합니다.\\n연관키워드: 데이터베이스, 데이터 모델링, 데이터 관리\\n\\nDataFrame')"
      ]
     },
     "execution_count": 43,
     "metadata": {},
     "output_type": "execute_result"
    }
   ],
   "source": [
    "result[0]"
   ]
  },
  {
   "cell_type": "code",
   "execution_count": 44,
   "metadata": {
    "colab": {
     "base_uri": "https://localhost:8080/"
    },
    "executionInfo": {
     "elapsed": 5,
     "status": "ok",
     "timestamp": 1741138669243,
     "user": {
      "displayName": "조경원",
      "userId": "10205523497785796707"
     },
     "user_tz": -540
    },
    "id": "joq6XJpG8dsV",
    "outputId": "0e54b442-b563-41f9-cd73-9152136323a7"
   },
   "outputs": [
    {
     "data": {
      "text/plain": [
       "Document(id='6a587118-15ce-43d0-9090-7cde064d1e61', metadata={'source': '/content/data/MyDrive/ai_lecture/5. Large Language Models/data/vector_db/nlp-keywords.txt'}, page_content='GPT (Generative Pretrained Transformer)\\n\\n정의: GPT는 대규모의 데이터셋으로 사전 훈련된 생성적 언어 모델로, 다양한 텍스트 기반 작업에 활용됩니다. 이는 입력된 텍스트에 기반하여 자연스러운 언어를 생성할 수 있습니다.\\n예시: 사용자가 제공한 질문에 대해 자세한 답변을 생성하는 챗봇은 GPT 모델을 사용할 수 있습니다.\\n연관키워드: 자연어 처리, 텍스트 생성, 딥러닝\\n\\nInstructGPT\\n\\n정의: InstructGPT는 사용자의 지시에 따라 특정한 작업을 수행하기 위해 최적화된 GPT 모델입니다. 이 모델은 보다 정확하고 관련성 높은 결과를 생성하도록 설계되었습니다.\\n예시: 사용자가 \"이메일 초안 작성\"과 같은 특정 지시를 제공하면, InstructGPT는 관련 내용을 기반으로 이메일을 작성합니다.\\n연관키워드: 인공지능, 자연어 이해, 명령 기반 처리\\n\\nKeyword Search')"
      ]
     },
     "execution_count": 44,
     "metadata": {},
     "output_type": "execute_result"
    }
   ],
   "source": [
    "result[-1]"
   ]
  },
  {
   "cell_type": "markdown",
   "metadata": {
    "id": "48CUimsFGlGl"
   },
   "source": [
    "#### k 값 지정"
   ]
  },
  {
   "cell_type": "code",
   "execution_count": 45,
   "metadata": {
    "colab": {
     "base_uri": "https://localhost:8080/"
    },
    "executionInfo": {
     "elapsed": 140,
     "status": "ok",
     "timestamp": 1741138669382,
     "user": {
      "displayName": "조경원",
      "userId": "10205523497785796707"
     },
     "user_tz": -540
    },
    "id": "OWgWLSDvDqhg",
    "outputId": "64a5146c-86c9-4a8a-bb7f-d1bf551858d8"
   },
   "outputs": [
    {
     "data": {
      "text/plain": [
       "2"
      ]
     },
     "execution_count": 45,
     "metadata": {},
     "output_type": "execute_result"
    }
   ],
   "source": [
    "# k 값 지정\n",
    "result = db.similarity_search(\"TF IDF 에 대하여 알려줘\", k=2)\n",
    "len(result)"
   ]
  },
  {
   "cell_type": "code",
   "execution_count": 46,
   "metadata": {
    "colab": {
     "base_uri": "https://localhost:8080/"
    },
    "executionInfo": {
     "elapsed": 4,
     "status": "ok",
     "timestamp": 1741138669387,
     "user": {
      "displayName": "조경원",
      "userId": "10205523497785796707"
     },
     "user_tz": -540
    },
    "id": "vAzuVzPwLY4X",
    "outputId": "bb6ef9c2-f3dc-4ff4-cbd6-3a0c11d69ea2"
   },
   "outputs": [
    {
     "data": {
      "text/plain": [
       "[Document(id='f61cb925-e2e1-4c59-a51a-484b5e00ca41', metadata={'source': '/content/data/MyDrive/ai_lecture/5. Large Language Models/data/vector_db/nlp-keywords.txt'}, page_content='정의: TF-IDF는 문서 내에서 단어의 중요도를 평가하는 데 사용되는 통계적 척도입니다. 이는 문서 내 단어의 빈도와 전체 문서 집합에서 그 단어의 희소성을 고려합니다.\\n예시: 많은 문서에서 자주 등장하지 않는 단어는 높은 TF-IDF 값을 가집니다.\\n연관키워드: 자연어 처리, 정보 검색, 데이터 마이닝\\n\\nDeep Learning\\n\\n정의: 딥러닝은 인공신경망을 이용하여 복잡한 문제를 해결하는 머신러닝의 한 분야입니다. 이는 데이터에서 고수준의 표현을 학습하는 데 중점을 둡니다.\\n예시: 이미지 인식, 음성 인식, 자연어 처리 등에서 딥러닝 모델이 활용됩니다.\\n연관키워드: 인공신경망, 머신러닝, 데이터 분석\\n\\nSchema\\n\\n정의: 스키마는 데이터베이스나 파일의 구조를 정의하는 것으로, 데이터가 어떻게 저장되고 조직되는지에 대한 청사진을 제공합니다.\\n예시: 관계형 데이터베이스의 테이블 스키마는 열 이름, 데이터 타입, 키 제약 조건 등을 정의합니다.\\n연관키워드: 데이터베이스, 데이터 모델링, 데이터 관리\\n\\nDataFrame'),\n",
       " Document(id='cca72bda-c169-4251-86ee-c7e700b4a473', metadata={'source': '/content/data/MyDrive/ai_lecture/5. Large Language Models/data/vector_db/nlp-keywords.txt'}, page_content='정의: 오픈 소스는 소스 코드가 공개되어 누구나 자유롭게 사용, 수정, 배포할 수 있는 소프트웨어를 의미합니다. 이는 협업과 혁신을 촉진하는 데 중요한 역할을 합니다.\\n예시: 리눅스 운영 체제는 대표적인 오픈 소스 프로젝트입니다.\\n연관키워드: 소프트웨어 개발, 커뮤니티, 기술 협업\\n\\nStructured Data\\n\\n정의: 구조화된 데이터는 정해진 형식이나 스키마에 따라 조직된 데이터입니다. 이는 데이터베이스, 스프레드시트 등에서 쉽게 검색하고 분석할 수 있습니다.\\n예시: 관계형 데이터베이스에 저장된 고객 정보 테이블은 구조화된 데이터의 예입니다.\\n연관키워드: 데이터베이스, 데이터 분석, 데이터 모델링\\n\\nParser\\n\\n정의: 파서는 주어진 데이터(문자열, 파일 등)를 분석하여 구조화된 형태로 변환하는 도구입니다. 이는 프로그래밍 언어의 구문 분석이나 파일 데이터 처리에 사용됩니다.\\n예시: HTML 문서를 구문 분석하여 웹 페이지의 DOM 구조를 생성하는 것은 파싱의 한 예입니다.\\n연관키워드: 구문 분석, 컴파일러, 데이터 처리\\n\\nTF-IDF (Term Frequency-Inverse Document Frequency)')]"
      ]
     },
     "execution_count": 46,
     "metadata": {},
     "output_type": "execute_result"
    }
   ],
   "source": [
    "result"
   ]
  },
  {
   "cell_type": "markdown",
   "metadata": {
    "id": "Ubef6DD6Gnqm"
   },
   "source": [
    "#### filter 사용"
   ]
  },
  {
   "cell_type": "code",
   "execution_count": 47,
   "metadata": {
    "colab": {
     "base_uri": "https://localhost:8080/"
    },
    "executionInfo": {
     "elapsed": 87,
     "status": "ok",
     "timestamp": 1741138669475,
     "user": {
      "displayName": "조경원",
      "userId": "10205523497785796707"
     },
     "user_tz": -540
    },
    "id": "-Unrric2-DU4",
    "outputId": "edc96113-0745-475f-864c-2cb7660b62bc"
   },
   "outputs": [
    {
     "data": {
      "text/plain": [
       "2"
      ]
     },
     "execution_count": 47,
     "metadata": {},
     "output_type": "execute_result"
    }
   ],
   "source": [
    "# filter 사용\n",
    "result = db.similarity_search(\n",
    "    \"TF IDF 에 대하여 알려줘\", filter={\"source\": DATA_PATH+\"nlp-keywords.txt\"}, k=2\n",
    ")\n",
    "len(result)"
   ]
  },
  {
   "cell_type": "code",
   "execution_count": 48,
   "metadata": {
    "colab": {
     "base_uri": "https://localhost:8080/"
    },
    "executionInfo": {
     "elapsed": 30,
     "status": "ok",
     "timestamp": 1741138669506,
     "user": {
      "displayName": "조경원",
      "userId": "10205523497785796707"
     },
     "user_tz": -540
    },
    "id": "WxDgPGeSL9ek",
    "outputId": "4bc9ef8e-7395-44d5-e654-71a20984c116"
   },
   "outputs": [
    {
     "data": {
      "text/plain": [
       "[Document(id='f61cb925-e2e1-4c59-a51a-484b5e00ca41', metadata={'source': '/content/data/MyDrive/ai_lecture/5. Large Language Models/data/vector_db/nlp-keywords.txt'}, page_content='정의: TF-IDF는 문서 내에서 단어의 중요도를 평가하는 데 사용되는 통계적 척도입니다. 이는 문서 내 단어의 빈도와 전체 문서 집합에서 그 단어의 희소성을 고려합니다.\\n예시: 많은 문서에서 자주 등장하지 않는 단어는 높은 TF-IDF 값을 가집니다.\\n연관키워드: 자연어 처리, 정보 검색, 데이터 마이닝\\n\\nDeep Learning\\n\\n정의: 딥러닝은 인공신경망을 이용하여 복잡한 문제를 해결하는 머신러닝의 한 분야입니다. 이는 데이터에서 고수준의 표현을 학습하는 데 중점을 둡니다.\\n예시: 이미지 인식, 음성 인식, 자연어 처리 등에서 딥러닝 모델이 활용됩니다.\\n연관키워드: 인공신경망, 머신러닝, 데이터 분석\\n\\nSchema\\n\\n정의: 스키마는 데이터베이스나 파일의 구조를 정의하는 것으로, 데이터가 어떻게 저장되고 조직되는지에 대한 청사진을 제공합니다.\\n예시: 관계형 데이터베이스의 테이블 스키마는 열 이름, 데이터 타입, 키 제약 조건 등을 정의합니다.\\n연관키워드: 데이터베이스, 데이터 모델링, 데이터 관리\\n\\nDataFrame'),\n",
       " Document(id='cca72bda-c169-4251-86ee-c7e700b4a473', metadata={'source': '/content/data/MyDrive/ai_lecture/5. Large Language Models/data/vector_db/nlp-keywords.txt'}, page_content='정의: 오픈 소스는 소스 코드가 공개되어 누구나 자유롭게 사용, 수정, 배포할 수 있는 소프트웨어를 의미합니다. 이는 협업과 혁신을 촉진하는 데 중요한 역할을 합니다.\\n예시: 리눅스 운영 체제는 대표적인 오픈 소스 프로젝트입니다.\\n연관키워드: 소프트웨어 개발, 커뮤니티, 기술 협업\\n\\nStructured Data\\n\\n정의: 구조화된 데이터는 정해진 형식이나 스키마에 따라 조직된 데이터입니다. 이는 데이터베이스, 스프레드시트 등에서 쉽게 검색하고 분석할 수 있습니다.\\n예시: 관계형 데이터베이스에 저장된 고객 정보 테이블은 구조화된 데이터의 예입니다.\\n연관키워드: 데이터베이스, 데이터 분석, 데이터 모델링\\n\\nParser\\n\\n정의: 파서는 주어진 데이터(문자열, 파일 등)를 분석하여 구조화된 형태로 변환하는 도구입니다. 이는 프로그래밍 언어의 구문 분석이나 파일 데이터 처리에 사용됩니다.\\n예시: HTML 문서를 구문 분석하여 웹 페이지의 DOM 구조를 생성하는 것은 파싱의 한 예입니다.\\n연관키워드: 구문 분석, 컴파일러, 데이터 처리\\n\\nTF-IDF (Term Frequency-Inverse Document Frequency)')]"
      ]
     },
     "execution_count": 48,
     "metadata": {},
     "output_type": "execute_result"
    }
   ],
   "source": [
    "result"
   ]
  },
  {
   "cell_type": "markdown",
   "metadata": {
    "id": "k02-fCQTPzyp"
   },
   "source": [
    "### [최대 한계 관련성(Maximum Marginal Relevance, MMR)](https://wikidocs.net/231585)\n",
    "- 정보 검색이나 문서 요약에서 사용되는 알고리즘으로, 문서의 관련성과 다양성을 동시에 고려하는 방법.\n",
    "- 선택된 문서가 질의(query)에 얼마나 관련이 있는지(Relevance), 그리고 이미 선택된 문서들과 얼마나 다른지(Diversity)를 계산하여 최적의 문서를 선정.\n",
    "- MMR 알고리즘은 질의에 대한 관련성이 높은 문서를 찾으면서도, 이미 선택된 문서들과는 상이한 내용을 가진 문서를 선호함으로써, 결과의 다양성을 보장함.\n",
    "\n",
    "예를 들어 사용자가 주제에 대해 폭넓은 정보를 얻고자 할 때 유용하며, 모든 문서가 같은 내용을 반복하지 않도록 하는 데에 목적이 있음."
   ]
  },
  {
   "cell_type": "markdown",
   "metadata": {
    "id": "N9DyvOueQPDM"
   },
   "source": [
    "MMR의 주요 매개변수:\n",
    "- `query`: 사용자로부터 입력받은 검색 쿼리입니다.\n",
    "- `k`: 최종적으로 선택할 문서의 수입니다. 이 매개변수는 반환할 문서의 총 개수를 결정합니다.\n",
    "- `fetch_k`: MMR 알고리즘을 수행할 때 고려할 상위 문서의 수입니다. 이는 초기 후보 문서 집합의 크기를 의미하며, 이 중에서 MMR에 의해 최종 문서가 k개 만큼 선택됩니다.\n",
    "- `lambda_mult`: 쿼리와의 유사성과 선택된 문서 간의 다양성 사이의 균형을 조절합니다. $(\\lambda = 1)$은 유사성만 고려하며, $(\\lambda = 0)$은 다양성만을 최대화합니다."
   ]
  },
  {
   "cell_type": "code",
   "execution_count": 49,
   "metadata": {
    "executionInfo": {
     "elapsed": 169,
     "status": "ok",
     "timestamp": 1741138669677,
     "user": {
      "displayName": "조경원",
      "userId": "10205523497785796707"
     },
     "user_tz": -540
    },
    "id": "jf93264BQHIx"
   },
   "outputs": [],
   "source": [
    "result = db.max_marginal_relevance_search(\n",
    "    \"TF IDF 에 대하여 알려줘\", k=4, fetch_k=10)"
   ]
  },
  {
   "cell_type": "code",
   "execution_count": 50,
   "metadata": {
    "colab": {
     "base_uri": "https://localhost:8080/"
    },
    "executionInfo": {
     "elapsed": 27,
     "status": "ok",
     "timestamp": 1741138669683,
     "user": {
      "displayName": "조경원",
      "userId": "10205523497785796707"
     },
     "user_tz": -540
    },
    "id": "GaXoNLZSQHLl",
    "outputId": "a7029638-97a1-49c4-e6ee-0d20c7e25dff"
   },
   "outputs": [
    {
     "data": {
      "text/plain": [
       "4"
      ]
     },
     "execution_count": 50,
     "metadata": {},
     "output_type": "execute_result"
    }
   ],
   "source": [
    "len(result)"
   ]
  },
  {
   "cell_type": "code",
   "execution_count": 51,
   "metadata": {
    "colab": {
     "base_uri": "https://localhost:8080/"
    },
    "executionInfo": {
     "elapsed": 43,
     "status": "ok",
     "timestamp": 1741138669726,
     "user": {
      "displayName": "조경원",
      "userId": "10205523497785796707"
     },
     "user_tz": -540
    },
    "id": "E1zGkhU9QHOu",
    "outputId": "e1bd85fe-0180-4e03-8288-abcd4b3148c6"
   },
   "outputs": [
    {
     "data": {
      "text/plain": [
       "Document(id='f61cb925-e2e1-4c59-a51a-484b5e00ca41', metadata={'source': '/content/data/MyDrive/ai_lecture/5. Large Language Models/data/vector_db/nlp-keywords.txt'}, page_content='정의: TF-IDF는 문서 내에서 단어의 중요도를 평가하는 데 사용되는 통계적 척도입니다. 이는 문서 내 단어의 빈도와 전체 문서 집합에서 그 단어의 희소성을 고려합니다.\\n예시: 많은 문서에서 자주 등장하지 않는 단어는 높은 TF-IDF 값을 가집니다.\\n연관키워드: 자연어 처리, 정보 검색, 데이터 마이닝\\n\\nDeep Learning\\n\\n정의: 딥러닝은 인공신경망을 이용하여 복잡한 문제를 해결하는 머신러닝의 한 분야입니다. 이는 데이터에서 고수준의 표현을 학습하는 데 중점을 둡니다.\\n예시: 이미지 인식, 음성 인식, 자연어 처리 등에서 딥러닝 모델이 활용됩니다.\\n연관키워드: 인공신경망, 머신러닝, 데이터 분석\\n\\nSchema\\n\\n정의: 스키마는 데이터베이스나 파일의 구조를 정의하는 것으로, 데이터가 어떻게 저장되고 조직되는지에 대한 청사진을 제공합니다.\\n예시: 관계형 데이터베이스의 테이블 스키마는 열 이름, 데이터 타입, 키 제약 조건 등을 정의합니다.\\n연관키워드: 데이터베이스, 데이터 모델링, 데이터 관리\\n\\nDataFrame')"
      ]
     },
     "execution_count": 51,
     "metadata": {},
     "output_type": "execute_result"
    }
   ],
   "source": [
    "result[0]"
   ]
  },
  {
   "cell_type": "code",
   "execution_count": 52,
   "metadata": {
    "colab": {
     "base_uri": "https://localhost:8080/"
    },
    "executionInfo": {
     "elapsed": 3,
     "status": "ok",
     "timestamp": 1741138669730,
     "user": {
      "displayName": "조경원",
      "userId": "10205523497785796707"
     },
     "user_tz": -540
    },
    "id": "-U4Lj3xj-fBl",
    "outputId": "a9d29908-2143-4ac2-e08d-d3e1e33d1242"
   },
   "outputs": [
    {
     "data": {
      "text/plain": [
       "Document(id='63a684c6-cbf0-4f04-ad05-5d26a60f76fd', metadata={'source': '/content/data/MyDrive/ai_lecture/5. Large Language Models/data/vector_db/nlp-keywords.txt'}, page_content='정의: CSV(Comma-Separated Values)는 데이터를 저장하는 파일 형식으로, 각 데이터 값은 쉼표로 구분됩니다. 표 형태의 데이터를 간단하게 저장하고 교환할 때 사용됩니다.\\n예시: 이름, 나이, 직업이라는 헤더를 가진 CSV 파일에는 홍길동, 30, 개발자와 같은 데이터가 포함될 수 있습니다.\\n연관키워드: 데이터 형식, 파일 처리, 데이터 교환\\n\\nJSON\\n\\n정의: JSON(JavaScript Object Notation)은 경량의 데이터 교환 형식으로, 사람과 기계 모두에게 읽기 쉬운 텍스트를 사용하여 데이터 객체를 표현합니다.\\n예시: {\"이름\": \"홍길동\", \"나이\": 30, \"직업\": \"개발자\"}는 JSON 형식의 데이터입니다.\\n연관키워드: 데이터 교환, 웹 개발, API\\n\\nTransformer\\n\\n정의: 트랜스포머는 자연어 처리에서 사용되는 딥러닝 모델의 한 유형으로, 주로 번역, 요약, 텍스트 생성 등에 사용됩니다. 이는 Attention 메커니즘을 기반으로 합니다.\\n예시: 구글 번역기는 트랜스포머 모델을 사용하여 다양한 언어 간의 번역을 수행합니다.\\n연관키워드: 딥러닝, 자연어 처리, Attention\\n\\nHuggingFace')"
      ]
     },
     "execution_count": 52,
     "metadata": {},
     "output_type": "execute_result"
    }
   ],
   "source": [
    "result[-1]"
   ]
  },
  {
   "cell_type": "markdown",
   "metadata": {
    "id": "Bq1atn3cG2O-"
   },
   "source": [
    "## FAISS 객체 병합 (Merge From)\n",
    "- merge_from 메서드는 현재 FAISS 객체에 다른 FAISS 객체를 병합하는 기능을 제공합니다.\n",
    "- 매개변수\n",
    "  - `target (FAISS)`: 현재 객체에 병합할 대상 FAISS 객체"
   ]
  },
  {
   "cell_type": "code",
   "execution_count": 53,
   "metadata": {
    "colab": {
     "base_uri": "https://localhost:8080/"
    },
    "executionInfo": {
     "elapsed": 3,
     "status": "ok",
     "timestamp": 1741138669733,
     "user": {
      "displayName": "조경원",
      "userId": "10205523497785796707"
     },
     "user_tz": -540
    },
    "id": "ZstukCEADR00",
    "outputId": "45b0d115-3e99-4553-e3a3-a85d553c82b4"
   },
   "outputs": [
    {
     "data": {
      "text/plain": [
       "{0: 'a8840c4a-38f4-4008-a437-070a84cecaa9',\n",
       " 1: '9c417992-3872-4648-94d1-5a230b9bd02f',\n",
       " 2: '63a684c6-cbf0-4f04-ad05-5d26a60f76fd',\n",
       " 3: '48abff8e-256a-4857-9c2f-e5738c220f29',\n",
       " 4: '3f56b9d5-bc70-4b8d-925a-dac6a2e3e28d',\n",
       " 5: 'cca72bda-c169-4251-86ee-c7e700b4a473',\n",
       " 6: 'f61cb925-e2e1-4c59-a51a-484b5e00ca41',\n",
       " 7: '2630dc6b-55b5-4bcc-b609-c9df8c63e80f',\n",
       " 8: '6a587118-15ce-43d0-9090-7cde064d1e61',\n",
       " 9: '1fd1fc36-2fb5-4622-ad11-66fb600fd4bb',\n",
       " 10: 'e0f51d87-0f7a-4c7f-afd0-39bfcdb8f922'}"
      ]
     },
     "execution_count": 53,
     "metadata": {},
     "output_type": "execute_result"
    }
   ],
   "source": [
    "# db 의 데이터 확인\n",
    "db.index_to_docstore_id"
   ]
  },
  {
   "cell_type": "markdown",
   "metadata": {
    "id": "1ElNydtEHF4Z"
   },
   "source": [
    "### db2 생성"
   ]
  },
  {
   "cell_type": "code",
   "execution_count": 54,
   "metadata": {
    "executionInfo": {
     "elapsed": 12,
     "status": "ok",
     "timestamp": 1741138669746,
     "user": {
      "displayName": "조경원",
      "userId": "10205523497785796707"
     },
     "user_tz": -540
    },
    "id": "E_8ycw0vHTcg"
   },
   "outputs": [],
   "source": [
    "loader2 = TextLoader(DATA_PATH+\"finance-keywords.txt\")"
   ]
  },
  {
   "cell_type": "code",
   "execution_count": 55,
   "metadata": {
    "colab": {
     "base_uri": "https://localhost:8080/"
    },
    "executionInfo": {
     "elapsed": 245,
     "status": "ok",
     "timestamp": 1741138669990,
     "user": {
      "displayName": "조경원",
      "userId": "10205523497785796707"
     },
     "user_tz": -540
    },
    "id": "_ICJY1ZNHWMV",
    "outputId": "89fe1e3f-f868-4076-9038-6d2c3068ee17"
   },
   "outputs": [
    {
     "data": {
      "text/plain": [
       "6"
      ]
     },
     "execution_count": 55,
     "metadata": {},
     "output_type": "execute_result"
    }
   ],
   "source": [
    "split_doc2 = loader2.load_and_split(text_splitter)\n",
    "len(split_doc2)"
   ]
  },
  {
   "cell_type": "code",
   "execution_count": 56,
   "metadata": {
    "executionInfo": {
     "elapsed": 452,
     "status": "ok",
     "timestamp": 1741138670442,
     "user": {
      "displayName": "조경원",
      "userId": "10205523497785796707"
     },
     "user_tz": -540
    },
    "id": "YApY474yDR30"
   },
   "outputs": [],
   "source": [
    "# 새로운 FAISS 벡터 저장소 생성\n",
    "db2 = FAISS.from_documents(documents=split_doc2, embedding=OpenAIEmbeddings())"
   ]
  },
  {
   "cell_type": "code",
   "execution_count": 57,
   "metadata": {
    "colab": {
     "base_uri": "https://localhost:8080/"
    },
    "executionInfo": {
     "elapsed": 9,
     "status": "ok",
     "timestamp": 1741138670478,
     "user": {
      "displayName": "조경원",
      "userId": "10205523497785796707"
     },
     "user_tz": -540
    },
    "id": "N_KMfSpjDR67",
    "outputId": "adcda27b-ae47-4733-b0eb-08bd8f525ee1"
   },
   "outputs": [
    {
     "data": {
      "text/plain": [
       "{0: '02f529e9-9e01-44a5-82d0-8a347f7c94a6',\n",
       " 1: '00e9e84c-78db-4f1f-b33a-72d07f40ca0c',\n",
       " 2: 'b4de7c85-db3f-47aa-ba6e-33d4f78e3179',\n",
       " 3: '4bf38b9e-492b-46c5-b9ed-0102e1b9e074',\n",
       " 4: '6439eda7-2532-4171-9ded-c768b697dfae',\n",
       " 5: '4c00b4d2-a25b-4691-a3ea-0f476ed0a058'}"
      ]
     },
     "execution_count": 57,
     "metadata": {},
     "output_type": "execute_result"
    }
   ],
   "source": [
    "# db2 의 데이터 확인\n",
    "db2.index_to_docstore_id"
   ]
  },
  {
   "cell_type": "markdown",
   "metadata": {
    "id": "hDpRAxP7HlFz"
   },
   "source": [
    "### 병합"
   ]
  },
  {
   "cell_type": "code",
   "execution_count": 58,
   "metadata": {
    "executionInfo": {
     "elapsed": 1,
     "status": "ok",
     "timestamp": 1741138670480,
     "user": {
      "displayName": "조경원",
      "userId": "10205523497785796707"
     },
     "user_tz": -540
    },
    "id": "BZ0kvD1kDR-X"
   },
   "outputs": [],
   "source": [
    "# db + db2 를 병합\n",
    "db.merge_from(db2)"
   ]
  },
  {
   "cell_type": "code",
   "execution_count": 59,
   "metadata": {
    "colab": {
     "base_uri": "https://localhost:8080/"
    },
    "executionInfo": {
     "elapsed": 6,
     "status": "ok",
     "timestamp": 1741138670486,
     "user": {
      "displayName": "조경원",
      "userId": "10205523497785796707"
     },
     "user_tz": -540
    },
    "id": "FmB2AMXqDSBZ",
    "outputId": "fd26ff07-a0bd-48b0-da68-460c2b6be2e3"
   },
   "outputs": [
    {
     "data": {
      "text/plain": [
       "{0: 'a8840c4a-38f4-4008-a437-070a84cecaa9',\n",
       " 1: '9c417992-3872-4648-94d1-5a230b9bd02f',\n",
       " 2: '63a684c6-cbf0-4f04-ad05-5d26a60f76fd',\n",
       " 3: '48abff8e-256a-4857-9c2f-e5738c220f29',\n",
       " 4: '3f56b9d5-bc70-4b8d-925a-dac6a2e3e28d',\n",
       " 5: 'cca72bda-c169-4251-86ee-c7e700b4a473',\n",
       " 6: 'f61cb925-e2e1-4c59-a51a-484b5e00ca41',\n",
       " 7: '2630dc6b-55b5-4bcc-b609-c9df8c63e80f',\n",
       " 8: '6a587118-15ce-43d0-9090-7cde064d1e61',\n",
       " 9: '1fd1fc36-2fb5-4622-ad11-66fb600fd4bb',\n",
       " 10: 'e0f51d87-0f7a-4c7f-afd0-39bfcdb8f922',\n",
       " 11: '02f529e9-9e01-44a5-82d0-8a347f7c94a6',\n",
       " 12: '00e9e84c-78db-4f1f-b33a-72d07f40ca0c',\n",
       " 13: 'b4de7c85-db3f-47aa-ba6e-33d4f78e3179',\n",
       " 14: '4bf38b9e-492b-46c5-b9ed-0102e1b9e074',\n",
       " 15: '6439eda7-2532-4171-9ded-c768b697dfae',\n",
       " 16: '4c00b4d2-a25b-4691-a3ea-0f476ed0a058'}"
      ]
     },
     "execution_count": 59,
     "metadata": {},
     "output_type": "execute_result"
    }
   ],
   "source": [
    "# 병합된 데이터 확인\n",
    "db.index_to_docstore_id"
   ]
  },
  {
   "cell_type": "markdown",
   "metadata": {
    "id": "u-Nwae6iT63w"
   },
   "source": [
    "# FAISS with Retriever"
   ]
  },
  {
   "cell_type": "markdown",
   "metadata": {
    "id": "-iRfs5NeUQ7x"
   },
   "source": [
    "## Loader"
   ]
  },
  {
   "cell_type": "code",
   "execution_count": 60,
   "metadata": {
    "executionInfo": {
     "elapsed": 12,
     "status": "ok",
     "timestamp": 1741138670498,
     "user": {
      "displayName": "조경원",
      "userId": "10205523497785796707"
     },
     "user_tz": -540
    },
    "id": "iU8UtY-cT2Kf"
   },
   "outputs": [],
   "source": [
    "from langchain_community.document_loaders import DirectoryLoader\n",
    "from langchain_community.document_loaders import TextLoader\n",
    "\n",
    "loader = DirectoryLoader(path=DATA_PATH, glob='*.txt'\n",
    "                    , show_progress=True, loader_cls=TextLoader)"
   ]
  },
  {
   "cell_type": "code",
   "execution_count": 61,
   "metadata": {
    "colab": {
     "base_uri": "https://localhost:8080/"
    },
    "executionInfo": {
     "elapsed": 11,
     "status": "ok",
     "timestamp": 1741138670508,
     "user": {
      "displayName": "조경원",
      "userId": "10205523497785796707"
     },
     "user_tz": -540
    },
    "id": "2zsdYeeEU9S8",
    "outputId": "54f114e0-38bb-48c6-af64-d889afc86442"
   },
   "outputs": [
    {
     "name": "stderr",
     "output_type": "stream",
     "text": [
      "100%|██████████| 2/2 [00:00<00:00, 308.80it/s]\n"
     ]
    },
    {
     "data": {
      "text/plain": [
       "2"
      ]
     },
     "execution_count": 61,
     "metadata": {},
     "output_type": "execute_result"
    }
   ],
   "source": [
    "docs = loader.load()\n",
    "len(docs)"
   ]
  },
  {
   "cell_type": "markdown",
   "metadata": {
    "id": "_znaKUumUZ00"
   },
   "source": [
    "## Splitter"
   ]
  },
  {
   "cell_type": "code",
   "execution_count": 62,
   "metadata": {
    "executionInfo": {
     "elapsed": 950,
     "status": "ok",
     "timestamp": 1741138671461,
     "user": {
      "displayName": "조경원",
      "userId": "10205523497785796707"
     },
     "user_tz": -540
    },
    "id": "AI2WFTUyT2NV"
   },
   "outputs": [],
   "source": [
    "from langchain.text_splitter import RecursiveCharacterTextSplitter\n",
    "\n",
    "# 텍스트 분할\n",
    "text_splitter = RecursiveCharacterTextSplitter.from_tiktoken_encoder(\n",
    "    chunk_size=600,\n",
    "    chunk_overlap=200,\n",
    "    encoding_name='o200k_base'\n",
    ")"
   ]
  },
  {
   "cell_type": "code",
   "execution_count": 63,
   "metadata": {
    "colab": {
     "base_uri": "https://localhost:8080/"
    },
    "executionInfo": {
     "elapsed": 21,
     "status": "ok",
     "timestamp": 1741138671481,
     "user": {
      "displayName": "조경원",
      "userId": "10205523497785796707"
     },
     "user_tz": -540
    },
    "id": "xmnLWrhQT2QV",
    "outputId": "03e0cc43-dfae-4213-f4b0-c19e86f8281e"
   },
   "outputs": [
    {
     "data": {
      "text/plain": [
       "11"
      ]
     },
     "execution_count": 63,
     "metadata": {},
     "output_type": "execute_result"
    }
   ],
   "source": [
    "splitted_docs = text_splitter.split_documents(docs)\n",
    "\n",
    "len(splitted_docs)"
   ]
  },
  {
   "cell_type": "markdown",
   "metadata": {
    "id": "H4AujPDvWf2V"
   },
   "source": [
    "## Embedding model"
   ]
  },
  {
   "cell_type": "code",
   "execution_count": 64,
   "metadata": {
    "executionInfo": {
     "elapsed": 2,
     "status": "ok",
     "timestamp": 1741138671483,
     "user": {
      "displayName": "조경원",
      "userId": "10205523497785796707"
     },
     "user_tz": -540
    },
    "id": "P6a5cxq1WigB"
   },
   "outputs": [],
   "source": [
    "from langchain_openai import OpenAIEmbeddings"
   ]
  },
  {
   "cell_type": "code",
   "execution_count": 65,
   "metadata": {
    "colab": {
     "base_uri": "https://localhost:8080/"
    },
    "executionInfo": {
     "elapsed": 691,
     "status": "ok",
     "timestamp": 1741138672175,
     "user": {
      "displayName": "조경원",
      "userId": "10205523497785796707"
     },
     "user_tz": -540
    },
    "id": "rp6kLNK1Wk_J",
    "outputId": "49206fa5-dd1e-4b65-c1dc-b3b09a54ccf0"
   },
   "outputs": [
    {
     "name": "stdout",
     "output_type": "stream",
     "text": [
      "1536\n"
     ]
    }
   ],
   "source": [
    "# 임베딩\n",
    "embeddings = OpenAIEmbeddings(model=\"text-embedding-3-small\")\n",
    "\n",
    "# 임베딩 차원 크기를 계산\n",
    "dimension_size = len(embeddings.embed_query(\"hello world\"))\n",
    "print(dimension_size)"
   ]
  },
  {
   "cell_type": "markdown",
   "metadata": {
    "id": "S0CtiDAmWRf1"
   },
   "source": [
    "## Vector DB - FAISS"
   ]
  },
  {
   "cell_type": "code",
   "execution_count": 66,
   "metadata": {
    "executionInfo": {
     "elapsed": 3,
     "status": "ok",
     "timestamp": 1741138672177,
     "user": {
      "displayName": "조경원",
      "userId": "10205523497785796707"
     },
     "user_tz": -540
    },
    "id": "03UCZXbUT2TV"
   },
   "outputs": [],
   "source": [
    "from langchain_community.vectorstores import FAISS\n",
    "from langchain_community.docstore.in_memory import InMemoryDocstore"
   ]
  },
  {
   "cell_type": "code",
   "execution_count": 67,
   "metadata": {
    "executionInfo": {
     "elapsed": 2263,
     "status": "ok",
     "timestamp": 1741138674442,
     "user": {
      "displayName": "조경원",
      "userId": "10205523497785796707"
     },
     "user_tz": -540
    },
    "id": "ylHrjuLHT2WV"
   },
   "outputs": [],
   "source": [
    "db = FAISS.from_documents(\n",
    "    documents=splitted_docs, embedding=embeddings)"
   ]
  },
  {
   "cell_type": "code",
   "execution_count": 68,
   "metadata": {
    "colab": {
     "base_uri": "https://localhost:8080/"
    },
    "executionInfo": {
     "elapsed": 21,
     "status": "ok",
     "timestamp": 1741138674462,
     "user": {
      "displayName": "조경원",
      "userId": "10205523497785796707"
     },
     "user_tz": -540
    },
    "id": "rVaFVw2TM9Gy",
    "outputId": "11a58cbb-93f0-4cfd-fd86-04a3a9244a3d"
   },
   "outputs": [
    {
     "data": {
      "text/plain": [
       "{0: '2fa9041e-8b36-41b8-af27-bd959a485d99',\n",
       " 1: '7fea7ef2-ee4e-4cc5-9237-642c4b4f0bce',\n",
       " 2: '3d05f387-d5fc-497a-b38f-db6fb67a5036',\n",
       " 3: '4825d60c-c81a-4f7d-804a-a65ac0d97dae',\n",
       " 4: '87e6a9ef-628a-4d93-a018-e892efca3fb5',\n",
       " 5: 'fd0e01b4-8bb4-4978-97d5-fb5a6a5f9163',\n",
       " 6: '2c9ffa6b-737a-4121-883c-e22047a9b106',\n",
       " 7: '3dd00830-f6f3-43a1-9c32-ac42c28494ee',\n",
       " 8: '935f2324-a2f2-4988-8edb-1f1fa56c81a7',\n",
       " 9: 'cb74c346-8835-47a8-85fd-0633b2bbf811',\n",
       " 10: '11e12767-30c2-40ca-a2cf-4f918c3853ad'}"
      ]
     },
     "execution_count": 68,
     "metadata": {},
     "output_type": "execute_result"
    }
   ],
   "source": [
    "db.index_to_docstore_id"
   ]
  },
  {
   "cell_type": "markdown",
   "metadata": {
    "id": "IrnjZ_qibFCX"
   },
   "source": [
    "## 검색기로 변환 (as_retriever)\n",
    "- as_retriever 메서드는 현재 벡터 저장소를 기반으로 VectorStoreRetriever 객체를 생성하는 기능을 제공합니다."
   ]
  },
  {
   "cell_type": "markdown",
   "metadata": {
    "id": "pmYKNja7gVfn"
   },
   "source": [
    "### 유사도"
   ]
  },
  {
   "cell_type": "code",
   "execution_count": 69,
   "metadata": {
    "executionInfo": {
     "elapsed": 2,
     "status": "ok",
     "timestamp": 1741138674465,
     "user": {
      "displayName": "조경원",
      "userId": "10205523497785796707"
     },
     "user_tz": -540
    },
    "id": "t7a9_-62aW9z"
   },
   "outputs": [],
   "source": [
    "# 검색기로 변환\n",
    "retriever = db.as_retriever()"
   ]
  },
  {
   "cell_type": "code",
   "execution_count": 70,
   "metadata": {
    "colab": {
     "base_uri": "https://localhost:8080/"
    },
    "executionInfo": {
     "elapsed": 434,
     "status": "ok",
     "timestamp": 1741138674900,
     "user": {
      "displayName": "조경원",
      "userId": "10205523497785796707"
     },
     "user_tz": -540
    },
    "id": "N9Z4n64AaXCJ",
    "outputId": "54d6a56f-6756-4908-bb57-6f357c3f130c"
   },
   "outputs": [
    {
     "data": {
      "text/plain": [
       "[Document(id='2c9ffa6b-737a-4121-883c-e22047a9b106', metadata={'source': '/content/data/MyDrive/ai_lecture/5. Large Language Models/data/vector_db/nlp-keywords.txt'}, page_content='HuggingFace\\n\\n정의: HuggingFace는 자연어 처리를 위한 다양한 사전 훈련된 모델과 도구를 제공하는 라이브러리입니다. 이는 연구자와 개발자들이 쉽게 NLP 작업을 수행할 수 있도록 돕습니다.\\n예시: HuggingFace의 Transformers 라이브러리를 사용하여 감정 분석, 텍스트 생성 등의 작업을 수행할 수 있습니다.\\n연관키워드: 자연어 처리, 딥러닝, 라이브러리\\n\\nDigital Transformation\\n\\n정의: 디지털 변환은 기술을 활용하여 기업의 서비스, 문화, 운영을 혁신하는 과정입니다. 이는 비즈니스 모델을 개선하고 디지털 기술을 통해 경쟁력을 높이는 데 중점을 둡니다.\\n예시: 기업이 클라우드 컴퓨팅을 도입하여 데이터 저장과 처리를 혁신하는 것은 디지털 변환의 예입니다.\\n연관키워드: 혁신, 기술, 비즈니스 모델\\n\\nCrawling\\n\\n정의: 크롤링은 자동화된 방식으로 웹 페이지를 방문하여 데이터를 수집하는 과정입니다. 이는 검색 엔진 최적화나 데이터 분석에 자주 사용됩니다.\\n예시: 구글 검색 엔진이 인터넷 상의 웹사이트를 방문하여 콘텐츠를 수집하고 인덱싱하는 것이 크롤링입니다.\\n연관키워드: 데이터 수집, 웹 스크래핑, 검색 엔진\\n\\nWord2Vec\\n\\n정의: Word2Vec은 단어를 벡터 공간에 매핑하여 단어 간의 의미적 관계를 나타내는 자연어 처리 기술입니다. 이는 단어의 문맥적 유사성을 기반으로 벡터를 생성합니다.\\n예시: Word2Vec 모델에서 \"왕\"과 \"여왕\"은 서로 가까운 위치에 벡터로 표현됩니다.\\n연관키워드: 자연어 처리, 임베딩, 의미론적 유사성\\nLLM (Large Language Model)\\n\\n정의: LLM은 대규모의 텍스트 데이터로 훈련된 큰 규모의 언어 모델을 의미합니다. 이러한 모델은 다양한 자연어 이해 및 생성 작업에 사용됩니다.\\n예시: OpenAI의 GPT 시리즈는 대표적인 대규모 언어 모델입니다.\\n연관키워드: 자연어 처리, 딥러닝, 텍스트 생성\\n\\nFAISS (Facebook AI Similarity Search)'),\n",
       " Document(id='3dd00830-f6f3-43a1-9c32-ac42c28494ee', metadata={'source': '/content/data/MyDrive/ai_lecture/5. Large Language Models/data/vector_db/nlp-keywords.txt'}, page_content='정의: LLM은 대규모의 텍스트 데이터로 훈련된 큰 규모의 언어 모델을 의미합니다. 이러한 모델은 다양한 자연어 이해 및 생성 작업에 사용됩니다.\\n예시: OpenAI의 GPT 시리즈는 대표적인 대규모 언어 모델입니다.\\n연관키워드: 자연어 처리, 딥러닝, 텍스트 생성\\n\\nFAISS (Facebook AI Similarity Search)\\n\\n정의: FAISS는 페이스북에서 개발한 고속 유사성 검색 라이브러리로, 특히 대규모 벡터 집합에서 유사 벡터를 효과적으로 검색할 수 있도록 설계되었습니다.\\n예시: 수백만 개의 이미지 벡터 중에서 비슷한 이미지를 빠르게 찾는 데 FAISS가 사용될 수 있습니다.\\n연관키워드: 벡터 검색, 머신러닝, 데이터베이스 최적화\\n\\nOpen Source\\n\\n정의: 오픈 소스는 소스 코드가 공개되어 누구나 자유롭게 사용, 수정, 배포할 수 있는 소프트웨어를 의미합니다. 이는 협업과 혁신을 촉진하는 데 중요한 역할을 합니다.\\n예시: 리눅스 운영 체제는 대표적인 오픈 소스 프로젝트입니다.\\n연관키워드: 소프트웨어 개발, 커뮤니티, 기술 협업\\n\\nStructured Data\\n\\n정의: 구조화된 데이터는 정해진 형식이나 스키마에 따라 조직된 데이터입니다. 이는 데이터베이스, 스프레드시트 등에서 쉽게 검색하고 분석할 수 있습니다.\\n예시: 관계형 데이터베이스에 저장된 고객 정보 테이블은 구조화된 데이터의 예입니다.\\n연관키워드: 데이터베이스, 데이터 분석, 데이터 모델링\\n\\nParser\\n\\n정의: 파서는 주어진 데이터(문자열, 파일 등)를 분석하여 구조화된 형태로 변환하는 도구입니다. 이는 프로그래밍 언어의 구문 분석이나 파일 데이터 처리에 사용됩니다.\\n예시: HTML 문서를 구문 분석하여 웹 페이지의 DOM 구조를 생성하는 것은 파싱의 한 예입니다.\\n연관키워드: 구문 분석, 컴파일러, 데이터 처리\\n\\nTF-IDF (Term Frequency-Inverse Document Frequency)\\n\\n정의: TF-IDF는 문서 내에서 단어의 중요도를 평가하는 데 사용되는 통계적 척도입니다. 이는 문서 내 단어의 빈도와 전체 문서 집합에서 그 단어의 희소성을 고려합니다.\\n예시: 많은 문서에서 자주 등장하지 않는 단어는 높은 TF-IDF 값을 가집니다.\\n연관키워드: 자연어 처리, 정보 검색, 데이터 마이닝\\n\\nDeep Learning'),\n",
       " Document(id='935f2324-a2f2-4988-8edb-1f1fa56c81a7', metadata={'source': '/content/data/MyDrive/ai_lecture/5. Large Language Models/data/vector_db/nlp-keywords.txt'}, page_content=\"TF-IDF (Term Frequency-Inverse Document Frequency)\\n\\n정의: TF-IDF는 문서 내에서 단어의 중요도를 평가하는 데 사용되는 통계적 척도입니다. 이는 문서 내 단어의 빈도와 전체 문서 집합에서 그 단어의 희소성을 고려합니다.\\n예시: 많은 문서에서 자주 등장하지 않는 단어는 높은 TF-IDF 값을 가집니다.\\n연관키워드: 자연어 처리, 정보 검색, 데이터 마이닝\\n\\nDeep Learning\\n\\n정의: 딥러닝은 인공신경망을 이용하여 복잡한 문제를 해결하는 머신러닝의 한 분야입니다. 이는 데이터에서 고수준의 표현을 학습하는 데 중점을 둡니다.\\n예시: 이미지 인식, 음성 인식, 자연어 처리 등에서 딥러닝 모델이 활용됩니다.\\n연관키워드: 인공신경망, 머신러닝, 데이터 분석\\n\\nSchema\\n\\n정의: 스키마는 데이터베이스나 파일의 구조를 정의하는 것으로, 데이터가 어떻게 저장되고 조직되는지에 대한 청사진을 제공합니다.\\n예시: 관계형 데이터베이스의 테이블 스키마는 열 이름, 데이터 타입, 키 제약 조건 등을 정의합니다.\\n연관키워드: 데이터베이스, 데이터 모델링, 데이터 관리\\n\\nDataFrame\\n\\n정의: DataFrame은 행과 열로 이루어진 테이블 형태의 데이터 구조로, 주로 데이터 분석 및 처리에 사용됩니다.\\n예시: 판다스 라이브러리에서 DataFrame은 다양한 데이터 타입의 열을 가질 수 있으며, 데이터 조작과 분석을 용이하게 합니다.\\n연관키워드: 데이터 분석, 판다스, 데이터 처리\\n\\nAttention 메커니즘\\n\\n정의: Attention 메커니즘은 딥러닝에서 중요한 정보에 더 많은 '주의'를 기울이도록 하는 기법입니다. 이는 주로 시퀀스 데이터(예: 텍스트, 시계열 데이터)에서 사용됩니다.\\n예시: 번역 모델에서 Attention 메커니즘은 입력 문장의 중요한 부분에 더 집중하여 정확한 번역을 생성합니다.\\n연관키워드: 딥러닝, 자연어 처리, 시퀀스 모델링\\n\\n판다스 (Pandas)\\n\\n정의: 판다스는 파이썬 프로그래밍 언어를 위한 데이터 분석 및 조작 도구를 제공하는 라이브러리입니다. 이는 데이터 분석 작업을 효율적으로 수행할 수 있게 합니다.\\n예시: 판다스를 사용하여 CSV 파일을 읽고, 데이터를 정제하며, 다양한 분석을 수행할 수 있습니다.\\n연관키워드: 데이터 분석, 파이썬, 데이터 처리\\n\\nGPT (Generative Pretrained Transformer)\"),\n",
       " Document(id='fd0e01b4-8bb4-4978-97d5-fb5a6a5f9163', metadata={'source': '/content/data/MyDrive/ai_lecture/5. Large Language Models/data/vector_db/nlp-keywords.txt'}, page_content='VectorStore\\n\\n정의: 벡터스토어는 벡터 형식으로 변환된 데이터를 저장하는 시스템입니다. 이는 검색, 분류 및 기타 데이터 분석 작업에 사용됩니다.\\n예시: 단어 임베딩 벡터들을 데이터베이스에 저장하여 빠르게 접근할 수 있습니다.\\n연관키워드: 임베딩, 데이터베이스, 벡터화\\n\\nSQL\\n\\n정의: SQL(Structured Query Language)은 데이터베이스에서 데이터를 관리하기 위한 프로그래밍 언어입니다. 데이터 조회, 수정, 삽입, 삭제 등 다양한 작업을 수행할 수 있습니다.\\n예시: SELECT * FROM users WHERE age > 18;은 18세 이상의 사용자 정보를 조회합니다.\\n연관키워드: 데이터베이스, 쿼리, 데이터 관리\\n\\nCSV\\n\\n정의: CSV(Comma-Separated Values)는 데이터를 저장하는 파일 형식으로, 각 데이터 값은 쉼표로 구분됩니다. 표 형태의 데이터를 간단하게 저장하고 교환할 때 사용됩니다.\\n예시: 이름, 나이, 직업이라는 헤더를 가진 CSV 파일에는 홍길동, 30, 개발자와 같은 데이터가 포함될 수 있습니다.\\n연관키워드: 데이터 형식, 파일 처리, 데이터 교환\\n\\nJSON\\n\\n정의: JSON(JavaScript Object Notation)은 경량의 데이터 교환 형식으로, 사람과 기계 모두에게 읽기 쉬운 텍스트를 사용하여 데이터 객체를 표현합니다.\\n예시: {\"이름\": \"홍길동\", \"나이\": 30, \"직업\": \"개발자\"}는 JSON 형식의 데이터입니다.\\n연관키워드: 데이터 교환, 웹 개발, API\\n\\nTransformer\\n\\n정의: 트랜스포머는 자연어 처리에서 사용되는 딥러닝 모델의 한 유형으로, 주로 번역, 요약, 텍스트 생성 등에 사용됩니다. 이는 Attention 메커니즘을 기반으로 합니다.\\n예시: 구글 번역기는 트랜스포머 모델을 사용하여 다양한 언어 간의 번역을 수행합니다.\\n연관키워드: 딥러닝, 자연어 처리, Attention\\n\\nHuggingFace\\n\\n정의: HuggingFace는 자연어 처리를 위한 다양한 사전 훈련된 모델과 도구를 제공하는 라이브러리입니다. 이는 연구자와 개발자들이 쉽게 NLP 작업을 수행할 수 있도록 돕습니다.\\n예시: HuggingFace의 Transformers 라이브러리를 사용하여 감정 분석, 텍스트 생성 등의 작업을 수행할 수 있습니다.\\n연관키워드: 자연어 처리, 딥러닝, 라이브러리\\n\\nDigital Transformation')]"
      ]
     },
     "execution_count": 70,
     "metadata": {},
     "output_type": "execute_result"
    }
   ],
   "source": [
    "# 검색 수행\n",
    "retriever.invoke(\"Word2Vec 에 대하여 알려줘\")"
   ]
  },
  {
   "cell_type": "markdown",
   "metadata": {
    "id": "1RlIH9_KgZQZ"
   },
   "source": [
    "### MMR\n",
    "- 다양성이 높은 더 많은 문서 검색\n",
    "  - `k`: 반환할 문서 수 (기본값: 4)\n",
    "  - `fetch_k`: MMR 알고리즘에 전달할 문서 수 (기본값: 20)\n",
    "  - `lambda_mult`: MMR 결과의 다양성 조절 (0~1, 기본값: 0.5, 0: 유사도 점수만 고려, 1: 다양성만 고려)"
   ]
  },
  {
   "cell_type": "code",
   "execution_count": 71,
   "metadata": {
    "executionInfo": {
     "elapsed": 1,
     "status": "ok",
     "timestamp": 1741138674902,
     "user": {
      "displayName": "조경원",
      "userId": "10205523497785796707"
     },
     "user_tz": -540
    },
    "id": "kCyK496PgQ7N"
   },
   "outputs": [],
   "source": [
    "retriever = db.as_retriever(\n",
    "    search_type=\"mmr\", search_kwargs={\"k\": 6, \"lambda_mult\": 0.25, \"fetch_k\": 10}\n",
    ")"
   ]
  },
  {
   "cell_type": "code",
   "execution_count": 72,
   "metadata": {
    "colab": {
     "base_uri": "https://localhost:8080/"
    },
    "executionInfo": {
     "elapsed": 237,
     "status": "ok",
     "timestamp": 1741138675139,
     "user": {
      "displayName": "조경원",
      "userId": "10205523497785796707"
     },
     "user_tz": -540
    },
    "id": "CZjKwXlZaXFH",
    "outputId": "76d7efd0-7b16-49a6-923d-117b22229213"
   },
   "outputs": [
    {
     "data": {
      "text/plain": [
       "[Document(id='935f2324-a2f2-4988-8edb-1f1fa56c81a7', metadata={'source': '/content/data/MyDrive/ai_lecture/5. Large Language Models/data/vector_db/nlp-keywords.txt'}, page_content=\"TF-IDF (Term Frequency-Inverse Document Frequency)\\n\\n정의: TF-IDF는 문서 내에서 단어의 중요도를 평가하는 데 사용되는 통계적 척도입니다. 이는 문서 내 단어의 빈도와 전체 문서 집합에서 그 단어의 희소성을 고려합니다.\\n예시: 많은 문서에서 자주 등장하지 않는 단어는 높은 TF-IDF 값을 가집니다.\\n연관키워드: 자연어 처리, 정보 검색, 데이터 마이닝\\n\\nDeep Learning\\n\\n정의: 딥러닝은 인공신경망을 이용하여 복잡한 문제를 해결하는 머신러닝의 한 분야입니다. 이는 데이터에서 고수준의 표현을 학습하는 데 중점을 둡니다.\\n예시: 이미지 인식, 음성 인식, 자연어 처리 등에서 딥러닝 모델이 활용됩니다.\\n연관키워드: 인공신경망, 머신러닝, 데이터 분석\\n\\nSchema\\n\\n정의: 스키마는 데이터베이스나 파일의 구조를 정의하는 것으로, 데이터가 어떻게 저장되고 조직되는지에 대한 청사진을 제공합니다.\\n예시: 관계형 데이터베이스의 테이블 스키마는 열 이름, 데이터 타입, 키 제약 조건 등을 정의합니다.\\n연관키워드: 데이터베이스, 데이터 모델링, 데이터 관리\\n\\nDataFrame\\n\\n정의: DataFrame은 행과 열로 이루어진 테이블 형태의 데이터 구조로, 주로 데이터 분석 및 처리에 사용됩니다.\\n예시: 판다스 라이브러리에서 DataFrame은 다양한 데이터 타입의 열을 가질 수 있으며, 데이터 조작과 분석을 용이하게 합니다.\\n연관키워드: 데이터 분석, 판다스, 데이터 처리\\n\\nAttention 메커니즘\\n\\n정의: Attention 메커니즘은 딥러닝에서 중요한 정보에 더 많은 '주의'를 기울이도록 하는 기법입니다. 이는 주로 시퀀스 데이터(예: 텍스트, 시계열 데이터)에서 사용됩니다.\\n예시: 번역 모델에서 Attention 메커니즘은 입력 문장의 중요한 부분에 더 집중하여 정확한 번역을 생성합니다.\\n연관키워드: 딥러닝, 자연어 처리, 시퀀스 모델링\\n\\n판다스 (Pandas)\\n\\n정의: 판다스는 파이썬 프로그래밍 언어를 위한 데이터 분석 및 조작 도구를 제공하는 라이브러리입니다. 이는 데이터 분석 작업을 효율적으로 수행할 수 있게 합니다.\\n예시: 판다스를 사용하여 CSV 파일을 읽고, 데이터를 정제하며, 다양한 분석을 수행할 수 있습니다.\\n연관키워드: 데이터 분석, 파이썬, 데이터 처리\\n\\nGPT (Generative Pretrained Transformer)\"),\n",
       " Document(id='4825d60c-c81a-4f7d-804a-a65ac0d97dae', metadata={'source': '/content/data/MyDrive/ai_lecture/5. Large Language Models/data/vector_db/finance-keywords.txt'}, page_content='Equity Research\\n\\n정의: 주식 리서치는 기업의 재무 상태, 사업 모델, 경쟁력 등을 분석하여 투자 의사 결정을 돕는 활동입니다.\\n예시: 골드만삭스의 애널리스트들이 S&P 500 기업들에 대한 분기별 실적 전망을 발표했습니다.\\n연관키워드: 투자 분석, 기업 가치평가, 시장 전망\\n\\nCorporate Governance\\n\\n정의: 기업 지배구조는 기업의 경영과 통제에 관한 시스템과 프로세스를 의미합니다.\\n예시: S&P 500 기업들 중 이사회의 다양성을 높이는 기업들이 증가하고 있습니다.\\n연관키워드: 주주 권리, ESG, 기업 윤리\\n\\nMergers and Acquisitions (M&A)\\n\\n정의: 인수합병은 기업들이 다른 기업을 사거나 합치는 과정을 말합니다.\\n예시: 마이크로소프트가 액티비전 블리자드를 인수하면서 S&P 500 내 게임 산업의 판도가 변화했습니다.\\n연관키워드: 기업 전략, 시너지 효과, 기업 가치\\n\\nESG (Environmental, Social, and Governance)\\n\\n정의: ESG는 기업의 환경, 사회, 지배구조 측면을 고려하는 투자 접근 방식입니다.\\n예시: S&P 500 ESG 지수는 우수한 ESG 성과를 보이는 기업들로 구성된 지수입니다.\\n연관키워드: 지속가능 투자, 기업의 사회적 책임, 윤리 경영\\n\\nStock Buyback\\n\\n정의: 자사주 매입은 기업이 자사의 주식을 시장에서 다시 사들이는 것을 말합니다.\\n예시: 애플은 S&P 500 기업 중 가장 큰 규모의 자사주 매입 프로그램을 운영하고 있습니다.\\n연관키워드: 주주 가치, 자본 관리, 주가 부양\\n\\nCyclical Stocks\\n\\n정의: 경기순환주는 경제 상황에 따라 실적이 크게 변동하는 기업의 주식을 말합니다.\\n예시: 포드, 제너럴 모터스와 같은 자동차 기업들은 S&P 500에 포함된 대표적인 경기순환주입니다.\\n연관키워드: 경제 사이클, 섹터 분석, 투자 타이밍\\n\\nDefensive Stocks\\n\\n정의: 방어주는 경기 변동에 상관없이 안정적인 실적을 보이는 기업의 주식을 의미합니다.\\n예시: 프록터앤갬블, 존슨앤존슨과 같은 생활필수품 기업들은 S&P 500 내 대표적인 방어주로 꼽힙니다.\\n연관키워드: 안정적 수익, 저변동성, 리스크 관리'),\n",
       " Document(id='11e12767-30c2-40ca-a2cf-4f918c3853ad', metadata={'source': '/content/data/MyDrive/ai_lecture/5. Large Language Models/data/vector_db/nlp-keywords.txt'}, page_content='Page Rank\\n\\n정의: 페이지 랭크는 웹 페이지의 중요도를 평가하는 알고리즘으로, 주로 검색 엔진 결과의 순위를 결정하는 데 사용됩니다. 이는 웹 페이지 간의 링크 구조를 분석하여 평가합니다.\\n예시: 구글 검색 엔진은 페이지 랭크 알고리즘을 사용하여 검색 결과의 순위를 정합니다.\\n연관키워드: 검색 엔진 최적화, 웹 분석, 링크 분석\\n\\n데이터 마이닝\\n\\n정의: 데이터 마이닝은 대량의 데이터에서 유용한 정보를 발굴하는 과정입니다. 이는 통계, 머신러닝, 패턴 인식 등의 기술을 활용합니다.\\n예시: 소매업체가 고객 구매 데이터를 분석하여 판매 전략을 수립하는 것은 데이터 마이닝의 예입니다.\\n연관키워드: 빅데이터, 패턴 인식, 예측 분석\\n\\n멀티모달 (Multimodal)\\n\\n정의: 멀티모달은 여러 종류의 데이터 모드(예: 텍스트, 이미지, 소리 등)를 결합하여 처리하는 기술입니다. 이는 서로 다른 형식의 데이터 간의 상호 작용을 통해 보다 풍부하고 정확한 정보를 추출하거나 예측하는 데 사용됩니다.\\n예시: 이미지와 설명 텍스트를 함께 분석하여 더 정확한 이미지 분류를 수행하는 시스템은 멀티모달 기술의 예입니다.\\n연관키워드: 데이터 융합, 인공지능, 딥러닝'),\n",
       " Document(id='87e6a9ef-628a-4d93-a018-e892efca3fb5', metadata={'source': '/content/data/MyDrive/ai_lecture/5. Large Language Models/data/vector_db/nlp-keywords.txt'}, page_content='Semantic Search\\n\\n정의: 의미론적 검색은 사용자의 질의를 단순한 키워드 매칭을 넘어서 그 의미를 파악하여 관련된 결과를 반환하는 검색 방식입니다.\\n예시: 사용자가 \"태양계 행성\"이라고 검색하면, \"목성\", \"화성\" 등과 같이 관련된 행성에 대한 정보를 반환합니다.\\n연관키워드: 자연어 처리, 검색 알고리즘, 데이터 마이닝\\n\\nEmbedding\\n\\n정의: 임베딩은 단어나 문장 같은 텍스트 데이터를 저차원의 연속적인 벡터로 변환하는 과정입니다. 이를 통해 컴퓨터가 텍스트를 이해하고 처리할 수 있게 합니다.\\n예시: \"사과\"라는 단어를 [0.65, -0.23, 0.17]과 같은 벡터로 표현합니다.\\n연관키워드: 자연어 처리, 벡터화, 딥러닝\\n\\nToken\\n\\n정의: 토큰은 텍스트를 더 작은 단위로 분할하는 것을 의미합니다. 이는 일반적으로 단어, 문장, 또는 구절일 수 있습니다.\\n예시: 문장 \"나는 학교에 간다\"를 \"나는\", \"학교에\", \"간다\"로 분할합니다.\\n연관키워드: 토큰화, 자연어 처리, 구문 분석\\n\\nTokenizer\\n\\n정의: 토크나이저는 텍스트 데이터를 토큰으로 분할하는 도구입니다. 이는 자연어 처리에서 데이터를 전처리하는 데 사용됩니다.\\n예시: \"I love programming.\"이라는 문장을 [\"I\", \"love\", \"programming\", \".\"]으로 분할합니다.\\n연관키워드: 토큰화, 자연어 처리, 구문 분석\\n\\nVectorStore\\n\\n정의: 벡터스토어는 벡터 형식으로 변환된 데이터를 저장하는 시스템입니다. 이는 검색, 분류 및 기타 데이터 분석 작업에 사용됩니다.\\n예시: 단어 임베딩 벡터들을 데이터베이스에 저장하여 빠르게 접근할 수 있습니다.\\n연관키워드: 임베딩, 데이터베이스, 벡터화\\n\\nSQL\\n\\n정의: SQL(Structured Query Language)은 데이터베이스에서 데이터를 관리하기 위한 프로그래밍 언어입니다. 데이터 조회, 수정, 삽입, 삭제 등 다양한 작업을 수행할 수 있습니다.\\n예시: SELECT * FROM users WHERE age > 18;은 18세 이상의 사용자 정보를 조회합니다.\\n연관키워드: 데이터베이스, 쿼리, 데이터 관리\\n\\nCSV'),\n",
       " Document(id='2c9ffa6b-737a-4121-883c-e22047a9b106', metadata={'source': '/content/data/MyDrive/ai_lecture/5. Large Language Models/data/vector_db/nlp-keywords.txt'}, page_content='HuggingFace\\n\\n정의: HuggingFace는 자연어 처리를 위한 다양한 사전 훈련된 모델과 도구를 제공하는 라이브러리입니다. 이는 연구자와 개발자들이 쉽게 NLP 작업을 수행할 수 있도록 돕습니다.\\n예시: HuggingFace의 Transformers 라이브러리를 사용하여 감정 분석, 텍스트 생성 등의 작업을 수행할 수 있습니다.\\n연관키워드: 자연어 처리, 딥러닝, 라이브러리\\n\\nDigital Transformation\\n\\n정의: 디지털 변환은 기술을 활용하여 기업의 서비스, 문화, 운영을 혁신하는 과정입니다. 이는 비즈니스 모델을 개선하고 디지털 기술을 통해 경쟁력을 높이는 데 중점을 둡니다.\\n예시: 기업이 클라우드 컴퓨팅을 도입하여 데이터 저장과 처리를 혁신하는 것은 디지털 변환의 예입니다.\\n연관키워드: 혁신, 기술, 비즈니스 모델\\n\\nCrawling\\n\\n정의: 크롤링은 자동화된 방식으로 웹 페이지를 방문하여 데이터를 수집하는 과정입니다. 이는 검색 엔진 최적화나 데이터 분석에 자주 사용됩니다.\\n예시: 구글 검색 엔진이 인터넷 상의 웹사이트를 방문하여 콘텐츠를 수집하고 인덱싱하는 것이 크롤링입니다.\\n연관키워드: 데이터 수집, 웹 스크래핑, 검색 엔진\\n\\nWord2Vec\\n\\n정의: Word2Vec은 단어를 벡터 공간에 매핑하여 단어 간의 의미적 관계를 나타내는 자연어 처리 기술입니다. 이는 단어의 문맥적 유사성을 기반으로 벡터를 생성합니다.\\n예시: Word2Vec 모델에서 \"왕\"과 \"여왕\"은 서로 가까운 위치에 벡터로 표현됩니다.\\n연관키워드: 자연어 처리, 임베딩, 의미론적 유사성\\nLLM (Large Language Model)\\n\\n정의: LLM은 대규모의 텍스트 데이터로 훈련된 큰 규모의 언어 모델을 의미합니다. 이러한 모델은 다양한 자연어 이해 및 생성 작업에 사용됩니다.\\n예시: OpenAI의 GPT 시리즈는 대표적인 대규모 언어 모델입니다.\\n연관키워드: 자연어 처리, 딥러닝, 텍스트 생성\\n\\nFAISS (Facebook AI Similarity Search)'),\n",
       " Document(id='7fea7ef2-ee4e-4cc5-9237-642c4b4f0bce', metadata={'source': '/content/data/MyDrive/ai_lecture/5. Large Language Models/data/vector_db/finance-keywords.txt'}, page_content='Sector Rotation\\n\\n정의: 섹터 로테이션은 투자자들이 경제 사이클에 따라 다른 산업 섹터로 투자를 이동시키는 전략을 말합니다.\\n예시: 경기 회복기에 투자자들이 기술주에서 금융주로 투자를 이동시키는 것이 섹터 로테이션의 한 예입니다.\\n연관키워드: 투자 전략, 자산 배분, 경제 사이클\\n\\nEarnings Per Share (EPS)\\n\\n정의: 주당순이익(EPS)은 기업의 순이익을 발행 주식 수로 나눈 값으로, 주주들에게 돌아가는 이익을 나타냅니다.\\n예시: 테슬라의 EPS가 예상치를 상회하면서 주가가 급등했습니다.\\n연관키워드: 재무 지표, 기업 실적, 주식 가치평가\\n\\nPrice-to-Earnings Ratio (P/E Ratio)\\n\\n정의: 주가수익비율(P/E)은 주가를 주당순이익으로 나눈 값으로, 기업의 가치를 평가하는 데 사용되는 지표입니다.\\n예시: 아마존의 P/E 비율이 높은 것은 투자자들이 회사의 미래 성장 가능성을 높게 평가하고 있다는 것을 의미합니다.\\n연관키워드: 주식 가치평가, 투자 분석, 성장주\\n\\nQuarterly Earnings Report\\n\\n정의: 분기별 실적 보고서는 기업이 3개월마다 발표하는 재무 성과와 사업 현황에 대한 보고서입니다.\\n예시: 애플의 분기별 실적 발표는 전체 기술 섹터와 S&P 500 지수에 큰 영향을 미칩니다.\\n연관키워드: 기업 실적, 투자자 관계, 재무 분석\\n\\nIndex Fund\\n\\n정의: 인덱스 펀드는 S&P 500과 같은 특정 지수의 구성과 성과를 그대로 추종하는 투자 상품입니다.\\n예시: 바운가드 S&P 500 ETF는 S&P 500 지수를 추종하는 대표적인 인덱스 펀드입니다.\\n연관키워드: 패시브 투자, ETF, 포트폴리오 관리\\n\\nMarket Weight\\n\\n정의: 시장 가중치는 특정 기업이나 섹터가 전체 지수에서 차지하는 비중을 나타냅니다.\\n예시: 기술 섹터는 S&P 500 지수에서 가장 큰 시장 가중치를 차지하고 있습니다.\\n연관키워드: 포트폴리오 구성, 섹터 분석, 자산 배분\\n\\nGrowth Stock')]"
      ]
     },
     "execution_count": 72,
     "metadata": {},
     "output_type": "execute_result"
    }
   ],
   "source": [
    "# 검색 수행\n",
    "retriever.invoke(\"TF IDF 에 대하여 알려줘\")"
   ]
  },
  {
   "cell_type": "code",
   "execution_count": 72,
   "metadata": {
    "executionInfo": {
     "elapsed": 2,
     "status": "ok",
     "timestamp": 1741138675142,
     "user": {
      "displayName": "조경원",
      "userId": "10205523497785796707"
     },
     "user_tz": -540
    },
    "id": "qpm8nWdTaXIC"
   },
   "outputs": [],
   "source": []
  }
 ],
 "metadata": {
  "colab": {
   "authorship_tag": "ABX9TyNwjgN6hTCM7l4cnASOCM8R",
   "collapsed_sections": [
    "uI2h7zT_AJ9U"
   ],
   "provenance": []
  },
  "kernelspec": {
   "display_name": ".venv",
   "language": "python",
   "name": "python3"
  },
  "language_info": {
   "codemirror_mode": {
    "name": "ipython",
    "version": 3
   },
   "file_extension": ".py",
   "mimetype": "text/x-python",
   "name": "python",
   "nbconvert_exporter": "python",
   "pygments_lexer": "ipython3",
   "version": "3.13.2"
  }
 },
 "nbformat": 4,
 "nbformat_minor": 0
}
